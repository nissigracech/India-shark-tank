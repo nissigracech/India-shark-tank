{
 "cells": [
  {
   "cell_type": "code",
   "execution_count": null,
   "id": "859001ce-de3f-4fb5-b8dc-590edee936a3",
   "metadata": {},
   "outputs": [],
   "source": []
  },
  {
   "cell_type": "code",
   "execution_count": null,
   "id": "d3d843e0-d72a-4f41-84ce-144308271ee9",
   "metadata": {},
   "outputs": [],
   "source": []
  },
  {
   "cell_type": "code",
   "execution_count": 1,
   "id": "31affa3b-cfb1-4dd5-8116-45373115dc47",
   "metadata": {},
   "outputs": [],
   "source": [
    "import pandas as pd"
   ]
  },
  {
   "cell_type": "code",
   "execution_count": 2,
   "id": "9a27eb4e-7afe-411b-992d-cb784bfdf21c",
   "metadata": {},
   "outputs": [],
   "source": [
    "filtered_df=pd.read_csv(\"filtered_df.csv\")"
   ]
  },
  {
   "cell_type": "code",
   "execution_count": 3,
   "id": "f5de63bc-c589-4db4-b022-dfaedaef2681",
   "metadata": {},
   "outputs": [
    {
     "name": "stdout",
     "output_type": "stream",
     "text": [
      "<class 'pandas.core.frame.DataFrame'>\n",
      "RangeIndex: 447 entries, 0 to 446\n",
      "Data columns (total 57 columns):\n",
      " #   Column                    Non-Null Count  Dtype  \n",
      "---  ------                    --------------  -----  \n",
      " 0   Unnamed: 0                447 non-null    int64  \n",
      " 1   Season Number             447 non-null    int64  \n",
      " 2   Startup Name              447 non-null    object \n",
      " 3   Episode Number            447 non-null    int64  \n",
      " 4   Pitch Number              447 non-null    int64  \n",
      " 5   Season Start              447 non-null    object \n",
      " 6   Season End                447 non-null    object \n",
      " 7   Original Air Date         447 non-null    object \n",
      " 8   Episode Title             447 non-null    object \n",
      " 9   Anchor                    447 non-null    object \n",
      " 10  Industry                  447 non-null    object \n",
      " 11  Number of Presenters      447 non-null    int64  \n",
      " 12  Pitchers Average Age      447 non-null    object \n",
      " 13  Pitchers State            447 non-null    object \n",
      " 14  Original Ask Amount       447 non-null    float64\n",
      " 15  Original Offered Equity   447 non-null    float64\n",
      " 16  Valuation Requested       447 non-null    float64\n",
      " 17  Received Offer            447 non-null    int64  \n",
      " 18  Accepted Offer            447 non-null    int64  \n",
      " 19  Total Deal Amount         447 non-null    float64\n",
      " 20  Total Deal Equity         447 non-null    float64\n",
      " 21  Deal Valuation            447 non-null    float64\n",
      " 22  Number of Sharks in Deal  447 non-null    int64  \n",
      " 23  Namita Present            447 non-null    int64  \n",
      " 24  Vineeta Present           447 non-null    int64  \n",
      " 25  Anupam Present            447 non-null    int64  \n",
      " 26  Aman Present              447 non-null    int64  \n",
      " 27  Peyush Present            447 non-null    int64  \n",
      " 28  Ritesh Present            447 non-null    int64  \n",
      " 29  Amit Present              447 non-null    int64  \n",
      " 30  Guest Present             447 non-null    int64  \n",
      " 31  Aman Deal                 447 non-null    int64  \n",
      " 32  Namita Deal               447 non-null    int64  \n",
      " 33  Vineeta Deal              447 non-null    int64  \n",
      " 34  Anupam Deal               447 non-null    int64  \n",
      " 35  Peyush Deal               447 non-null    int64  \n",
      " 36  Ritesh Deal               447 non-null    int64  \n",
      " 37  Amit Deal                 447 non-null    int64  \n",
      " 38  deal_amount_per_shark     447 non-null    float64\n",
      " 39  equity_per_shark          447 non-null    float64\n",
      " 40  Boot Strapped             447 non-null    int64  \n",
      " 41  Ashneer Present           447 non-null    int64  \n",
      " 42  Azhar Present             447 non-null    int64  \n",
      " 43  Ghazal Present            447 non-null    int64  \n",
      " 44  Deepinder Present         447 non-null    int64  \n",
      " 45  Radhika Present           447 non-null    int64  \n",
      " 46  Vikas Present             447 non-null    int64  \n",
      " 47  Ronnie Present            447 non-null    int64  \n",
      " 48  Varun Present             447 non-null    int64  \n",
      " 49  Ashneer Deal              447 non-null    int64  \n",
      " 50  Azhar Deal                447 non-null    int64  \n",
      " 51  Ghazal Deal               447 non-null    int64  \n",
      " 52  Deepinder Deal            447 non-null    int64  \n",
      " 53  Radhika Deal              447 non-null    int64  \n",
      " 54  Vikas Deal                447 non-null    int64  \n",
      " 55  Ronnie Deal               447 non-null    int64  \n",
      " 56  Varun Deal                447 non-null    int64  \n",
      "dtypes: float64(8), int64(40), object(9)\n",
      "memory usage: 199.2+ KB\n"
     ]
    }
   ],
   "source": [
    "filtered_df.info()"
   ]
  },
  {
   "cell_type": "code",
   "execution_count": 2,
   "id": "f3ca1ba3-123c-49ae-b7ac-5f86d2980205",
   "metadata": {},
   "outputs": [],
   "source": [
    "df=pd.read_csv(\"Shark Tank India.csv\")\n",
    "\n",
    "df = df[df['Episode Title'] != 'Unseen']\n",
    "\n",
    "df['Aman_deal'] = df['Aman Investment Amount'].map(lambda x: 1 if isinstance(x, (int, float)) and not pd.isna(x) else 0)\n",
    "df['Namita_deal'] = df['Namita Investment Amount'].map(lambda x: 1 if isinstance(x, (int, float)) and not pd.isna(x) else 0)\n",
    "df['Vineeta_deal'] = df['Vineeta Investment Amount'].map(lambda x: 1 if isinstance(x, (int, float)) and not pd.isna(x) else 0)\n",
    "df['Anupam_deal'] = df['Anupam Investment Amount'].map(lambda x: 1 if isinstance(x, (int, float)) and not pd.isna(x) else 0)\n",
    "df['peyush_deal'] = df['Peyush Investment Amount'].map(lambda x: 1 if isinstance(x, (int, float)) and not pd.isna(x) else 0)\n",
    "df['Ritesh_deal'] = df['Ritesh Investment Amount'].map(lambda x: 1 if isinstance(x, (int, float)) and not pd.isna(x) else 0)\n",
    "df['Amit_deal'] = df['Amit Investment Amount'].map(lambda x: 1 if isinstance(x, (int, float)) and not pd.isna(x) else 0)\n",
    "\n",
    "\n",
    "df['deal_amount_per_shark']=df['Total Deal Amount']/df['Number of Sharks in Deal']\n",
    "df['equity_per_shark']=df['Total Deal Equity']/df['Number of Sharks in Deal']\n",
    "\n",
    "\n",
    "df['Boot Strapped']=df['Bootstrapped'].map(lambda x: 1 if x in ['yes', 'funded'] else 0)\n",
    "df.drop('Bootstrapped' , axis=1, inplace=True)\n",
    "df['Pitchers State']=df['Pitchers State'].fillna(df['Pitchers State'].mode()[0])\n",
    "\n",
    "general_info=['Season Number', 'Startup Name',\n",
    "              'Episode Number', 'Pitch Number',\n",
    "              'Episode Title','Anchor', 'Industry',\n",
    "              'Number of Presenters','Pitchers Average Age',\n",
    "              'Original Ask Amount', 'Original Offered Equity',\n",
    "              'Valuation Requested', 'Received Offer', 'Accepted Offer',\n",
    "              'Total Deal Amount', 'Total Deal Equity',  'Deal Valuation', \n",
    "              'Number of Sharks in Deal','Pitchers State',\n",
    "              'Boot Strapped']\n",
    "\n",
    "\n",
    "time_details=['Season Start', 'Season End', 'Original Air Date']\n",
    "\n",
    "pitchers_business_details=['Business Description','Company Website',\n",
    "                           'Started in', 'Male Presenters',\n",
    "                           'Female Presenters', 'Transgender Presenters', \n",
    "                           'Couple Presenters','Pitchers City']\n",
    "\n",
    "brand_renvue_details=['Yearly Revenue', 'Monthly Sales', \n",
    "                      'Gross Margin', 'Net Margin',\n",
    "                      'EBITDA', 'Cash Burn',\n",
    "                      'SKUs', 'Has Patents','Part of Match off']\n",
    "\n",
    "more_into_pitching_brands=['Deal Has Conditions', 'Royalty Percentage', \n",
    "                           'Royalty Recouped Amount','Advisory Shares Equity']\n",
    "\n",
    "sharks_presence=['Namita Present', \n",
    "                 'Vineeta Present', 'Anupam Present',\n",
    "                 'Aman Present','Peyush Present',\n",
    "                 'Ritesh Present', 'Amit Present', 'Guest Present']\n",
    "\n",
    "Debt_details=['Total Deal Debt','Debt Interest','Namita Debt Amount', 'Vineeta Debt Amount','Anupam Debt Amount','Aman Debt Amount', 'Peyush Debt Amount',\n",
    "               'Ritesh Debt Amount', 'Amit Debt Amount','Guest Debt Amount']\n",
    "\n",
    "sharks_ivestment_equity_details=['Namita Investment Amount','Namita Investment Equity',  \n",
    "                                 'Vineeta Investment Amount', 'Vineeta Investment Equity', \n",
    "                                 'Anupam Investment Amount','Anupam Investment Equity',  \n",
    "                                 'Aman Investment Amount', 'Aman Investment Equity',  \n",
    "                                 'Peyush Investment Amount', 'Peyush Investment Equity', \n",
    "                                 'Ritesh Investment Amount', 'Ritesh Investment Equity',  \n",
    "                                 'Amit Investment Amount', 'Amit Investment Equity',  \n",
    "                                 'Guest Investment Amount', 'Guest Investment Equity']\n",
    "\n",
    "guest_related=['All Guest Names',]\n",
    "\n",
    "\n",
    "removing_col=brand_renvue_details+pitchers_business_details+sharks_ivestment_equity_details+Debt_details+more_into_pitching_brands\n",
    "filtered_df=df.drop(columns=removing_col)"
   ]
  },
  {
   "cell_type": "code",
   "execution_count": 3,
   "id": "5d39d72e-72c6-4156-a06d-7899b8c2846b",
   "metadata": {},
   "outputs": [],
   "source": [
    "filtered_df['Accepted Offer']=filtered_df['Accepted Offer'].fillna(-1)\n",
    "filtered_df['Accepted Offer']=filtered_df['Accepted Offer'].astype(int)"
   ]
  },
  {
   "cell_type": "code",
   "execution_count": 45,
   "id": "7ca9e422-40c6-48f3-b844-d053ed3b7ce4",
   "metadata": {},
   "outputs": [],
   "source": [
    "filtered_df['Accepted Offer']=filtered_df['Accepted Offer'].fillna(-1)\n",
    "filtered_df['Accepted Offer']=filtered_df['Accepted Offer'].astype(int)\n",
    "for i in sharks_presence:\n",
    "    filtered_df[i]=filtered_df[i].fillna(0)\n",
    "    filtered_df[i]=filtered_df[i].astype(int)\n",
    "filtered_df['Number of Sharks in Deal']=filtered_df['Number of Sharks in Deal'].fillna(0)\n",
    "filtered_df['Number of Sharks in Deal']=filtered_df['Number of Sharks in Deal'].astype('int64')\n",
    "filtered_df['Total Deal Amount']=filtered_df['Total Deal Amount'].fillna(0)\n",
    "filtered_df['Total Deal Equity']=filtered_df['Total Deal Equity'].fillna(0)\n",
    "filtered_df['Deal Valuation']=filtered_df['Deal Valuation'].fillna(0)\n",
    "filtered_df['deal_amount_per_shark']=filtered_df['deal_amount_per_shark'].fillna(0)\n",
    "filtered_df['equity_per_shark']=filtered_df['equity_per_shark'].fillna(0)"
   ]
  },
  {
   "cell_type": "code",
   "execution_count": 42,
   "id": "cbf74a00-9c08-4cb2-b8fd-76c7cf3b293f",
   "metadata": {},
   "outputs": [],
   "source": []
  },
  {
   "cell_type": "code",
   "execution_count": 43,
   "id": "2787bcad-65dd-4401-863d-f03a0c5a14ae",
   "metadata": {},
   "outputs": [],
   "source": [
    "\n"
   ]
  },
  {
   "cell_type": "code",
   "execution_count": 87,
   "id": "86311aa2-c1e3-4d3c-8109-2471154f22a2",
   "metadata": {},
   "outputs": [],
   "source": [
    "season1_df=filtered_df[filtered_df['Season Number']==1] \n",
    "season1_df.to_csv(\"s1.csv\")"
   ]
  },
  {
   "cell_type": "code",
   "execution_count": 105,
   "id": "6be14b2a-9fbc-4fb1-b1b5-a95dcc5bcda2",
   "metadata": {},
   "outputs": [],
   "source": [
    "season2_df=filtered_df[filtered_df['Season Number']==2] \n",
    "season2_df.to_csv(\"s2.csv\")"
   ]
  },
  {
   "cell_type": "code",
   "execution_count": 51,
   "id": "6d498d1a-bc30-407a-b5c6-db7866d410cf",
   "metadata": {},
   "outputs": [],
   "source": [
    "season3_df=filtered_df[filtered_df['Season Number']==3] \n",
    "season3_df.to_csv(\"s3.csv\")"
   ]
  },
  {
   "cell_type": "code",
   "execution_count": null,
   "id": "9ea40863-0e83-4ab4-abe7-8f73d9d2ab64",
   "metadata": {},
   "outputs": [],
   "source": [
    "df["
   ]
  },
  {
   "cell_type": "code",
   "execution_count": 69,
   "id": "b593f331-1d0e-4d35-8513-8989617a3165",
   "metadata": {},
   "outputs": [],
   "source": [
    "season1_sharks_present=[]\n",
    "season2_sharks_present=[]\n",
    "season3_sharks_present=[]\n",
    "season1_sharks_deal=[]\n",
    "season2_sharks_deal=[]\n",
    "season3_sharks_deal=[]"
   ]
  },
  {
   "cell_type": "code",
   "execution_count": 11,
   "id": "c63dc477-9378-4679-a201-6284b392a8af",
   "metadata": {},
   "outputs": [
    {
     "data": {
      "text/plain": [
       "All Guest Names\n",
       "Ashneer Grover                    92\n",
       "Azhar Iqubal                      25\n",
       "Ghazal Alagh                      19\n",
       "Deepinder Goyal                   18\n",
       "Radhika Gupta                     15\n",
       "Ghazal Alagh,Ashneer Grover        7\n",
       "Vikas D Nahar                      4\n",
       "Ronnie Screwvala,Radhika Gupta     3\n",
       "Varun Dua,Radhika Gupta            3\n",
       "Azhar Iqubal,Radhika Gupta         3\n",
       "Name: count, dtype: int64"
      ]
     },
     "execution_count": 11,
     "metadata": {},
     "output_type": "execute_result"
    }
   ],
   "source": [
    "filtered_df['All Guest Names'].value_counts()"
   ]
  },
  {
   "cell_type": "code",
   "execution_count": 12,
   "id": "8e353e54-13ae-4b34-8d3c-e1d619980fda",
   "metadata": {},
   "outputs": [
    {
     "data": {
      "text/plain": [
       "Invested Guest Name\n",
       "Ashneer Grover                 20\n",
       "Ghazal Alagh                    6\n",
       "Azhar Iqubal                    5\n",
       "Radhika Gupta                   4\n",
       "Vikas D Nahar                   2\n",
       "Ronnie Screwvala                2\n",
       "Ghazal Alagh,Ashneer Grover     1\n",
       "Deepinder Goyal                 1\n",
       "Varun Dua,Radhika Gupta         1\n",
       "Varun Dua                       1\n",
       "Azhar Iqubal,Radhika Gupta      1\n",
       "Name: count, dtype: int64"
      ]
     },
     "execution_count": 12,
     "metadata": {},
     "output_type": "execute_result"
    }
   ],
   "source": [
    "filtered_df['Invested Guest Name'].value_counts()"
   ]
  },
  {
   "cell_type": "code",
   "execution_count": 37,
   "id": "8b40dcb0-ac46-455c-8397-5f003649b280",
   "metadata": {},
   "outputs": [],
   "source": [
    "Guest_list=['Ashneer Grover','Azhar Iqubal','Ghazal Alagh',\n",
    "            'Deepinder Goyal','Radhika Gupta','Vikas D Nahar',\n",
    "            'Ronnie Screwvala','Varun Dua']\n",
    "guest_list_short_cut=['Ashneer','Azhar','Ghazal',\n",
    "            'Deepinder','Radhika','Vikas',\n",
    "            'Ronnie','Varun']"
   ]
  },
  {
   "cell_type": "code",
   "execution_count": 8,
   "id": "717d8881-ab93-48f6-a296-7f69367336a0",
   "metadata": {},
   "outputs": [],
   "source": [
    "j=0\n",
    "for i in Guest_list:\n",
    "    new_col=guest_list_short_cut[j]+'_present'\n",
    "    filtered_df[new_col]=filtered_df['All Guest Names'].apply(lambda x: 1 if pd.notna(x) and i in x else 0)\n",
    "    filtered_df[new_col] = filtered_df['All Guest Names'].apply(lambda x: 1 if pd.notna(x) and i in x else 0)\n",
    "    filtered_df['All Guest Names'] = filtered_df['All Guest Names'].apply(lambda x: x.replace(i, '').strip() if pd.notna(x) else x)\n",
    "    filtered_df['All Guest Names'] = filtered_df['All Guest Names'].apply(lambda x: x.replace(i, '').strip() if pd.notna(x) else x)\n",
    "    j+=1\n",
    "\n",
    "\n",
    "k=0\n",
    "for i in Guest_list:\n",
    "    new_col=guest_list_short_cut[k]+'_deal'\n",
    "    filtered_df[new_col]=filtered_df['Invested Guest Name'].apply(lambda x: 1 if pd.notna(x) and i in x else 0)\n",
    "    filtered_df[new_col] = filtered_df['Invested Guest Name'].apply(lambda x: 1 if pd.notna(x) and i in x else 0)\n",
    "    filtered_df['Invested Guest Name'] = filtered_df['Invested Guest Name'].apply(lambda x: x.replace(i, '').strip() if pd.notna(x) else x)\n",
    "    filtered_df['Invested Guest Name'] = filtered_df['Invested Guest Name'].apply(lambda x: x.replace(i, '').strip() if pd.notna(x) else x)\n",
    "    k+=1\n",
    "\n"
   ]
  },
  {
   "cell_type": "code",
   "execution_count": null,
   "id": "9212e027-5e73-4e97-88ef-9ca0936ea33c",
   "metadata": {},
   "outputs": [],
   "source": [
    "filtered_df.to_csv(\"k.csv\")"
   ]
  },
  {
   "cell_type": "code",
   "execution_count": 9,
   "id": "b5b001fa-2117-4b74-b5ca-8649415d971a",
   "metadata": {},
   "outputs": [],
   "source": []
  },
  {
   "cell_type": "code",
   "execution_count": 17,
   "id": "54cfef02-fa6f-48fa-8fce-328f01f40fea",
   "metadata": {},
   "outputs": [
    {
     "data": {
      "text/plain": [
       "All Guest Names\n",
       "     173\n",
       ",     16\n",
       "Name: count, dtype: int64"
      ]
     },
     "execution_count": 17,
     "metadata": {},
     "output_type": "execute_result"
    }
   ],
   "source": [
    "filtered_df['All Guest Names'].value_counts()"
   ]
  },
  {
   "cell_type": "code",
   "execution_count": 18,
   "id": "ce4d3168-7246-417a-bc93-3c784bb00084",
   "metadata": {},
   "outputs": [
    {
     "data": {
      "text/plain": [
       "Invested Guest Name\n",
       "     41\n",
       ",     3\n",
       "Name: count, dtype: int64"
      ]
     },
     "execution_count": 18,
     "metadata": {},
     "output_type": "execute_result"
    }
   ],
   "source": [
    "filtered_df['Invested Guest Name'].value_counts()"
   ]
  },
  {
   "cell_type": "code",
   "execution_count": 12,
   "id": "66f77124-4e8a-49f2-8611-0c950b9faa0a",
   "metadata": {},
   "outputs": [],
   "source": [
    "filtered_df.to_csv(\"filtered_df.csv\")"
   ]
  },
  {
   "cell_type": "code",
   "execution_count": 10,
   "id": "acb63205-91b5-4450-b04e-ea857bd99ee8",
   "metadata": {},
   "outputs": [],
   "source": [
    "filtered_df.drop(columns=['Invested Guest Name','All Guest Names'],inplace=True)"
   ]
  },
  {
   "cell_type": "code",
   "execution_count": 27,
   "id": "fd32d439-84b4-4ded-860b-3b95bf16f76a",
   "metadata": {},
   "outputs": [
    {
     "data": {
      "text/plain": [
       "36"
      ]
     },
     "execution_count": 27,
     "metadata": {},
     "output_type": "execute_result"
    }
   ],
   "source": [
    "season1_df['Episode Number'].nunique()"
   ]
  },
  {
   "cell_type": "code",
   "execution_count": 28,
   "id": "61f56f1c-fa94-4f90-92f4-871899ab16ef",
   "metadata": {},
   "outputs": [
    {
     "data": {
      "text/plain": [
       "52"
      ]
     },
     "execution_count": 28,
     "metadata": {},
     "output_type": "execute_result"
    }
   ],
   "source": [
    "season3_df['Episode Number'].nunique()"
   ]
  },
  {
   "cell_type": "code",
   "execution_count": 30,
   "id": "8c2f644a-5417-4f4d-9812-e63a2104c727",
   "metadata": {},
   "outputs": [
    {
     "data": {
      "text/plain": [
       "1"
      ]
     },
     "execution_count": 30,
     "metadata": {},
     "output_type": "execute_result"
    }
   ],
   "source": [
    "season1_df['Anchor'].nunique()"
   ]
  },
  {
   "cell_type": "code",
   "execution_count": 34,
   "id": "2c9c2650-f95b-461a-8cbf-839fa584c9ec",
   "metadata": {},
   "outputs": [
    {
     "data": {
      "text/plain": [
       "'Rahul Dua'"
      ]
     },
     "execution_count": 34,
     "metadata": {},
     "output_type": "execute_result"
    }
   ],
   "source": [
    "season3_df['Anchor'].mode()[0]"
   ]
  },
  {
   "cell_type": "code",
   "execution_count": 41,
   "id": "728cff58-673d-4e2b-ac60-de2d5492c085",
   "metadata": {},
   "outputs": [
    {
     "data": {
      "text/plain": [
       "'20 Dec 2021'"
      ]
     },
     "execution_count": 41,
     "metadata": {},
     "output_type": "execute_result"
    }
   ],
   "source": [
    "season1_df['Season Start'].max()"
   ]
  },
  {
   "cell_type": "code",
   "execution_count": null,
   "id": "d458b0da-0271-4935-8695-c156fd7d0f9d",
   "metadata": {},
   "outputs": [],
   "source": [
    "filtered_df['Season Start']=filtered_df['Season Start'].dt.strftime('%Y-%m-%d')"
   ]
  },
  {
   "cell_type": "code",
   "execution_count": 38,
   "id": "91ffd7da-3a0d-4539-9425-d8a4a3f1134d",
   "metadata": {},
   "outputs": [],
   "source": [
    "for i in time_details:\n",
    "    filtered_df[i] = pd.to_datetime(filtered_df[i], errors='coerce')\n",
    "    filtered_df[i]=filtered_df[i].dt.strftime('%d %b %Y')"
   ]
  },
  {
   "cell_type": "code",
   "execution_count": 42,
   "id": "3c770864-077b-47a2-8680-6aeab79c5bca",
   "metadata": {},
   "outputs": [
    {
     "data": {
      "text/plain": [
       "122"
      ]
     },
     "execution_count": 42,
     "metadata": {},
     "output_type": "execute_result"
    }
   ],
   "source": [
    "season1_df['Pitch Number'].nunique()"
   ]
  },
  {
   "cell_type": "code",
   "execution_count": 43,
   "id": "c1063100-9f6d-4883-8f57-ee103c517b83",
   "metadata": {},
   "outputs": [
    {
     "data": {
      "text/plain": [
       "157"
      ]
     },
     "execution_count": 43,
     "metadata": {},
     "output_type": "execute_result"
    }
   ],
   "source": [
    "season3_df['Pitch Number'].nunique()"
   ]
  },
  {
   "cell_type": "code",
   "execution_count": 44,
   "id": "84866a54-7431-415d-a332-717b0a910c99",
   "metadata": {},
   "outputs": [
    {
     "data": {
      "text/plain": [
       "3964.60106"
      ]
     },
     "execution_count": 44,
     "metadata": {},
     "output_type": "execute_result"
    }
   ],
   "source": [
    "season1_df['Total Deal Amount'].sum()"
   ]
  },
  {
   "cell_type": "code",
   "execution_count": 45,
   "id": "a7879f23-bbd4-4b09-a927-c399cbe4d06f",
   "metadata": {},
   "outputs": [
    {
     "data": {
      "text/plain": [
       "6730.0125"
      ]
     },
     "execution_count": 45,
     "metadata": {},
     "output_type": "execute_result"
    }
   ],
   "source": [
    "season3_df['Total Deal Amount'].sum()"
   ]
  },
  {
   "cell_type": "code",
   "execution_count": null,
   "id": "98651084-b6a8-4e66-83dd-c3482d891dcf",
   "metadata": {},
   "outputs": [],
   "source": [
    "f\"₹{season3_df['Total Deal Amount'].sum() / 100:.2f} crores\""
   ]
  },
  {
   "cell_type": "code",
   "execution_count": 11,
   "id": "58af0190-5332-4b13-afe2-3b80581e7912",
   "metadata": {},
   "outputs": [],
   "source": [
    "filtered_df.to_csv(\"a.csv\")"
   ]
  },
  {
   "cell_type": "code",
   "execution_count": 17,
   "id": "fc8e9824-cdaf-4367-99de-c1e927bfb153",
   "metadata": {},
   "outputs": [],
   "source": [
    "season1_df.to_csv(\"b.csv\")"
   ]
  },
  {
   "cell_type": "code",
   "execution_count": 18,
   "id": "dfa9c599-1454-4379-82f9-8f1745eb30ba",
   "metadata": {},
   "outputs": [],
   "source": [
    "season2_df.to_csv(\"c.csv\")"
   ]
  },
  {
   "cell_type": "code",
   "execution_count": 20,
   "id": "1a3ca04f-92c7-481d-b54d-9dcfd44940cf",
   "metadata": {},
   "outputs": [],
   "source": [
    "season3_df.to_csv(\"f.csv\")"
   ]
  },
  {
   "cell_type": "code",
   "execution_count": null,
   "id": "d77299e2-08bf-4c58-b01e-4440a14622df",
   "metadata": {},
   "outputs": [],
   "source": [
    "season1_df.info()"
   ]
  },
  {
   "cell_type": "code",
   "execution_count": null,
   "id": "444d884c-9676-4d8b-b663-5e254e13183a",
   "metadata": {},
   "outputs": [],
   "source": [
    "season1_df.info()"
   ]
  },
  {
   "cell_type": "code",
   "execution_count": 22,
   "id": "50f256b8-24b3-45f1-9e8d-be529901f9b3",
   "metadata": {},
   "outputs": [
    {
     "data": {
      "text/plain": [
       "90"
      ]
     },
     "execution_count": 22,
     "metadata": {},
     "output_type": "execute_result"
    }
   ],
   "source": [
    "season1_df['Received Offer'].sum()"
   ]
  },
  {
   "cell_type": "code",
   "execution_count": 23,
   "id": "b38093f6-99af-4b15-bfb7-0cedaaf5cbe1",
   "metadata": {},
   "outputs": [
    {
     "data": {
      "text/plain": [
       "90"
      ]
     },
     "execution_count": 23,
     "metadata": {},
     "output_type": "execute_result"
    }
   ],
   "source": [
    "season1_df[season1_df['Received Offer'] == 1].shape[0]\n"
   ]
  },
  {
   "cell_type": "code",
   "execution_count": 24,
   "id": "891f9f3a-9a4b-4cc0-af3e-7790b2648f50",
   "metadata": {},
   "outputs": [
    {
     "data": {
      "text/plain": [
       "32"
      ]
     },
     "execution_count": 24,
     "metadata": {},
     "output_type": "execute_result"
    }
   ],
   "source": [
    "season1_df['Received Offer'].eq(0).sum()\n"
   ]
  },
  {
   "cell_type": "code",
   "execution_count": 25,
   "id": "9939af48-b971-48e9-92d3-7b35a537f029",
   "metadata": {},
   "outputs": [
    {
     "data": {
      "text/plain": [
       "90"
      ]
     },
     "execution_count": 25,
     "metadata": {},
     "output_type": "execute_result"
    }
   ],
   "source": [
    "season1_df['Received Offer'].eq(1).sum()\n"
   ]
  },
  {
   "cell_type": "code",
   "execution_count": 6,
   "id": "12ecccdf-09fc-4be8-a353-2cddc4ebe2b1",
   "metadata": {},
   "outputs": [],
   "source": [
    "All_sharks=['Namita','Vineeta','Anupam',\n",
    "                'Aman','Peyush','Ritesh','Amit',\n",
    "                'Ashneer','Azhar','Ghazal','Deepinder',\n",
    "                'Radhika','Vikas','Ronnie','Varun']\n",
    "All_guests=['Ashneer','Azhar','Ghazal','Deepinder',\n",
    "                'Radhika','Vikas','Ronnie','Varun']\n",
    "season1_sharks=['Namita','Vineeta','Anupam',\n",
    "                'Aman','Peyush','Ashneer',\n",
    "                'Ghazal']\n",
    "season1_guests=[ 'Ashneer','Ghazal' ]\n",
    "season2_sharks=['Namita','Vineeta','Anupam',\n",
    "                'Aman','Peyush','Amit','Vikas']\n",
    "season2_guests=['Ashneer','Azhar','Ghazal','Deepinder',\n",
    "                'Radhika','Vikas','Ronnie','Varun']\n",
    "season3_sharks=['Namita','Vineeta','Anupam',\n",
    "                'Aman','Peyush','Ritesh','Amit',\n",
    "                'Azhar','Deepinder','Radhika',\n",
    "                'Ronnie','Varun']\n",
    "season3_guests=['Azhar','Ghazal','Deepinder',\n",
    "                'Radhika','Ronnie','Varun']\n"
   ]
  },
  {
   "cell_type": "code",
   "execution_count": 11,
   "id": "55639936-3508-4a32-ac50-2378e73592ee",
   "metadata": {},
   "outputs": [],
   "source": [
    "season_sharks=season3_sharks+season3_guests"
   ]
  },
  {
   "cell_type": "code",
   "execution_count": 12,
   "id": "228b4c7b-1603-46bb-b25d-ca4176c44017",
   "metadata": {},
   "outputs": [
    {
     "data": {
      "text/plain": [
       "['Namita',\n",
       " 'Vineeta',\n",
       " 'Anupam',\n",
       " 'Aman',\n",
       " 'Peyush',\n",
       " 'Ritesh',\n",
       " 'Amit',\n",
       " 'Azhar',\n",
       " 'Deepinder',\n",
       " 'Radhika',\n",
       " 'Ronnie',\n",
       " 'Varun',\n",
       " 'Azhar',\n",
       " 'Ghazal',\n",
       " 'Deepinder',\n",
       " 'Radhika',\n",
       " 'Ronnie',\n",
       " 'Varun']"
      ]
     },
     "execution_count": 12,
     "metadata": {},
     "output_type": "execute_result"
    }
   ],
   "source": [
    "season_sharks"
   ]
  },
  {
   "cell_type": "code",
   "execution_count": null,
   "id": "df9ddd7c-9981-4e5f-b26f-99bfd1a9d0c8",
   "metadata": {},
   "outputs": [],
   "source": []
  },
  {
   "cell_type": "code",
   "execution_count": 68,
   "id": "2e184192-1ba1-4015-9a25-ba63579f5779",
   "metadata": {},
   "outputs": [],
   "source": [
    "def count_shark_presence(data, shark_names):\n",
    "    presence_counts = {}\n",
    "    for shark_name in shark_names:\n",
    "        present_column = f\"{shark_name} Present\"\n",
    "        if present_column in data.columns:\n",
    "             presence_counts[shark_name]=data[present_column].sum()\n",
    "        else:\n",
    "            print(f\"Warning: Column for {shark_name} not found in the data.\")\n",
    "            \n",
    "\n",
    "    return presence_counts"
   ]
  },
  {
   "cell_type": "code",
   "execution_count": 92,
   "id": "47e41918-39ab-43f0-9045-8f1452de9137",
   "metadata": {},
   "outputs": [],
   "source": [
    "def count_shark_deal(data, shark_names):\n",
    "    deal_counts = {}\n",
    "    for shark_name in shark_names:\n",
    "        deal_column = f\"{shark_name} Deal\"\n",
    "        if deal_column in data.columns:\n",
    "             deal_counts[shark_name]=data[deal_column].sum()\n",
    "        else:\n",
    "            print(f\"Warning: Column for {shark_name} not found in the data.\")\n",
    "            \n",
    "\n",
    "    return deal_counts"
   ]
  },
  {
   "cell_type": "code",
   "execution_count": 69,
   "id": "46dbd0d7-1ba8-454e-96db-490f358aa2b6",
   "metadata": {},
   "outputs": [],
   "source": [
    "All_sharks=['Namita','Vineeta','Anupam',\n",
    "                'Aman','Peyush','Ritesh','Amit',\n",
    "                'Ashneer','Azhar','Ghazal','Deepinder',\n",
    "                'Radhika','Vikas','Ronnie','Varun']\n",
    "All_guests=['Ashneer','Azhar','Ghazal','Deepinder',\n",
    "                'Radhika','Vikas','Ronnie','Varun']\n",
    "season1_sharks=['Namita','Vineeta','Anupam',\n",
    "                'Aman','Peyush']\n",
    "season1_guests=[ 'Ashneer','Ghazal' ]\n",
    "season2_sharks=['Namita','Vineeta','Anupam',\n",
    "                'Aman','Peyush','Amit','Vikas']\n",
    "season2_guests=['Ashneer','Azhar','Ghazal','Deepinder',\n",
    "                'Radhika','Vikas','Ronnie','Varun']\n",
    "season3_sharks=['Namita','Vineeta','Anupam',\n",
    "                'Aman','Peyush','Ritesh','Amit',\n",
    "                'Azhar','Deepinder','Radhika',\n",
    "                'Ronnie','Varun']\n",
    "season3_guests=['Azhar','Ghazal','Deepinder',\n",
    "                'Radhika','Ronnie','Varun']"
   ]
  },
  {
   "cell_type": "code",
   "execution_count": 71,
   "id": "13ce87f8-7935-49c5-b367-37e895e8b15f",
   "metadata": {},
   "outputs": [],
   "source": [
    "season_sharks=season1_sharks+season1_guests"
   ]
  },
  {
   "cell_type": "code",
   "execution_count": 103,
   "id": "398edbda-886e-46d0-8f72-ed4f784baf64",
   "metadata": {},
   "outputs": [],
   "source": [
    "season_sharks=season2_sharks+season2_guests"
   ]
  },
  {
   "cell_type": "code",
   "execution_count": 104,
   "id": "e305ea7d-d4f5-4bde-8a1a-a47d49fbecd8",
   "metadata": {},
   "outputs": [
    {
     "name": "stdout",
     "output_type": "stream",
     "text": [
      "{'Namita': 111, 'Vineeta': 71, 'Anupam': 118, 'Aman': 103, 'Peyush': 92, 'Amit': 0, 'Vikas': 0, 'Ashneer': 99, 'Azhar': 0, 'Ghazal': 26, 'Deepinder': 0, 'Radhika': 0, 'Ronnie': 0, 'Varun': 0}\n"
     ]
    }
   ],
   "source": [
    "print(count_shark_presence(season1_df,season_sharks))"
   ]
  },
  {
   "cell_type": "code",
   "execution_count": 93,
   "id": "53df7e70-ba34-4e1b-82aa-b1f24e647cb3",
   "metadata": {},
   "outputs": [
    {
     "name": "stdout",
     "output_type": "stream",
     "text": [
      "{'Namita': 25, 'Vineeta': 17, 'Anupam': 25, 'Aman': 30, 'Peyush': 28, 'Ashneer': 21, 'Ghazal': 7}\n"
     ]
    }
   ],
   "source": [
    "print(count_shark_deal(season2_df,season_sharks))\n"
   ]
  },
  {
   "cell_type": "code",
   "execution_count": null,
   "id": "80406f33-f1f8-40c5-b926-a06dbe6f2d76",
   "metadata": {},
   "outputs": [],
   "source": []
  },
  {
   "cell_type": "code",
   "execution_count": 97,
   "id": "a12d8f77-2df2-46ef-b1e9-6aa7e70fbbcb",
   "metadata": {},
   "outputs": [],
   "source": [
    "df=pd.read_csv(\"Shark Tank India.csv\")\n",
    "\n",
    "df = df[df['Episode Title'] != 'Unseen']\n",
    "\n",
    "df['Aman Deal'] = df['Aman Investment Amount'].map(lambda x: 1 if isinstance(x, (int, float)) and not pd.isna(x) else 0)\n",
    "df['Namita Deal'] = df['Namita Investment Amount'].map(lambda x: 1 if isinstance(x, (int, float)) and not pd.isna(x) else 0)\n",
    "df['Vineeta Deal'] = df['Vineeta Investment Amount'].map(lambda x: 1 if isinstance(x, (int, float)) and not pd.isna(x) else 0)\n",
    "df['Anupam Deal'] = df['Anupam Investment Amount'].map(lambda x: 1 if isinstance(x, (int, float)) and not pd.isna(x) else 0)\n",
    "df['Peyush Deal'] = df['Peyush Investment Amount'].map(lambda x: 1 if isinstance(x, (int, float)) and not pd.isna(x) else 0)\n",
    "df['Ritesh Deal'] = df['Ritesh Investment Amount'].map(lambda x: 1 if isinstance(x, (int, float)) and not pd.isna(x) else 0)\n",
    "df['Amit Deal'] = df['Amit Investment Amount'].map(lambda x: 1 if isinstance(x, (int, float)) and not pd.isna(x) else 0)\n",
    "\n",
    "\n",
    "df['deal_amount_per_shark']=df['Total Deal Amount']/df['Number of Sharks in Deal']\n",
    "df['equity_per_shark']=df['Total Deal Equity']/df['Number of Sharks in Deal']\n",
    "\n",
    "\n",
    "df['Boot Strapped']=df['Bootstrapped'].map(lambda x: 1 if x in ['yes', 'funded'] else 0)\n",
    "df.drop('Bootstrapped' , axis=1, inplace=True)\n",
    "df['Pitchers State']=df['Pitchers State'].fillna(df['Pitchers State'].mode()[0])\n",
    "\n",
    "general_info=['Season Number', 'Startup Name',\n",
    "              'Episode Number', 'Pitch Number',\n",
    "              'Episode Title','Anchor', 'Industry',\n",
    "              'Number of Presenters','Pitchers Average Age',\n",
    "              'Original Ask Amount', 'Original Offered Equity',\n",
    "              'Valuation Requested', 'Received Offer', 'Accepted Offer',\n",
    "              'Total Deal Amount', 'Total Deal Equity',  'Deal Valuation', \n",
    "              'Number of Sharks in Deal','Pitchers State',\n",
    "              'Boot Strapped']\n",
    "\n",
    "\n",
    "time_details=['Season Start', 'Season End', 'Original Air Date']\n",
    "\n",
    "pitchers_business_details=['Business Description','Company Website',\n",
    "                           'Started in', 'Male Presenters',\n",
    "                           'Female Presenters', 'Transgender Presenters', \n",
    "                           'Couple Presenters','Pitchers City']\n",
    "\n",
    "brand_renvue_details=['Yearly Revenue', 'Monthly Sales', \n",
    "                      'Gross Margin', 'Net Margin',\n",
    "                      'EBITDA', 'Cash Burn',\n",
    "                      'SKUs', 'Has Patents','Part of Match off']\n",
    "\n",
    "more_into_pitching_brands=['Deal Has Conditions', 'Royalty Percentage', \n",
    "                           'Royalty Recouped Amount','Advisory Shares Equity']\n",
    "\n",
    "sharks_presence=['Namita Present', \n",
    "                 'Vineeta Present', 'Anupam Present',\n",
    "                 'Aman Present','Peyush Present',\n",
    "                 'Ritesh Present', 'Amit Present', 'Guest Present']\n",
    "\n",
    "Debt_details=['Total Deal Debt','Debt Interest','Namita Debt Amount', 'Vineeta Debt Amount','Anupam Debt Amount','Aman Debt Amount', 'Peyush Debt Amount',\n",
    "               'Ritesh Debt Amount', 'Amit Debt Amount','Guest Debt Amount']\n",
    "\n",
    "sharks_ivestment_equity_details=['Namita Investment Amount','Namita Investment Equity',  \n",
    "                                 'Vineeta Investment Amount', 'Vineeta Investment Equity', \n",
    "                                 'Anupam Investment Amount','Anupam Investment Equity',  \n",
    "                                 'Aman Investment Amount', 'Aman Investment Equity',  \n",
    "                                 'Peyush Investment Amount', 'Peyush Investment Equity', \n",
    "                                 'Ritesh Investment Amount', 'Ritesh Investment Equity',  \n",
    "                                 'Amit Investment Amount', 'Amit Investment Equity',  \n",
    "                                 'Guest Investment Amount', 'Guest Investment Equity']\n",
    "\n",
    "guest_related=['All Guest Names',]\n",
    "\n",
    "\n",
    "removing_col=brand_renvue_details+pitchers_business_details+sharks_ivestment_equity_details+Debt_details+more_into_pitching_brands\n",
    "filtered_df=df.drop(columns=removing_col)"
   ]
  },
  {
   "cell_type": "code",
   "execution_count": 98,
   "id": "ec64cf16-d059-429f-9992-5a60b1f1c05e",
   "metadata": {},
   "outputs": [],
   "source": [
    "j=0\n",
    "for i in Guest_list:\n",
    "    new_col=guest_list_short_cut[j]+' Present'\n",
    "    filtered_df[new_col]=filtered_df['All Guest Names'].apply(lambda x: 1 if pd.notna(x) and i in x else 0)\n",
    "    filtered_df[new_col] = filtered_df['All Guest Names'].apply(lambda x: 1 if pd.notna(x) and i in x else 0)\n",
    "    filtered_df['All Guest Names'] = filtered_df['All Guest Names'].apply(lambda x: x.replace(i, '').strip() if pd.notna(x) else x)\n",
    "    filtered_df['All Guest Names'] = filtered_df['All Guest Names'].apply(lambda x: x.replace(i, '').strip() if pd.notna(x) else x)\n",
    "    j+=1\n",
    "\n",
    "\n",
    "k=0\n",
    "for i in Guest_list:\n",
    "    new_col=guest_list_short_cut[k]+' Deal'\n",
    "    filtered_df[new_col]=filtered_df['Invested Guest Name'].apply(lambda x: 1 if pd.notna(x) and i in x else 0)\n",
    "    filtered_df[new_col] = filtered_df['Invested Guest Name'].apply(lambda x: 1 if pd.notna(x) and i in x else 0)\n",
    "    filtered_df['Invested Guest Name'] = filtered_df['Invested Guest Name'].apply(lambda x: x.replace(i, '').strip() if pd.notna(x) else x)\n",
    "    filtered_df['Invested Guest Name'] = filtered_df['Invested Guest Name'].apply(lambda x: x.replace(i, '').strip() if pd.notna(x) else x)\n",
    "    k+=1\n"
   ]
  },
  {
   "cell_type": "code",
   "execution_count": 99,
   "id": "f081c43c-f4f2-410b-a4be-ad3777e2ac6d",
   "metadata": {},
   "outputs": [],
   "source": [
    "filtered_df.drop(columns=['Invested Guest Name','All Guest Names'],inplace=True)"
   ]
  },
  {
   "cell_type": "code",
   "execution_count": 100,
   "id": "e5f0bf18-35c3-470f-9864-868112c2202d",
   "metadata": {},
   "outputs": [],
   "source": [
    "filtered_df['Accepted Offer']=filtered_df['Accepted Offer'].fillna(-1)\n",
    "filtered_df['Accepted Offer']=filtered_df['Accepted Offer'].astype(int)\n",
    "for i in sharks_presence:\n",
    "    filtered_df[i]=filtered_df[i].fillna(0)\n",
    "    filtered_df[i]=filtered_df[i].astype(int)\n",
    "filtered_df['Number of Sharks in Deal']=filtered_df['Number of Sharks in Deal'].fillna(0)\n",
    "filtered_df['Number of Sharks in Deal']=filtered_df['Number of Sharks in Deal'].astype('int64')\n",
    "filtered_df['Total Deal Amount']=filtered_df['Total Deal Amount'].fillna(0)\n",
    "filtered_df['Total Deal Equity']=filtered_df['Total Deal Equity'].fillna(0)\n",
    "filtered_df['Deal Valuation']=filtered_df['Deal Valuation'].fillna(0)\n",
    "filtered_df['deal_amount_per_shark']=filtered_df['deal_amount_per_shark'].fillna(0)\n",
    "filtered_df['equity_per_shark']=filtered_df['equity_per_shark'].fillna(0)"
   ]
  },
  {
   "cell_type": "code",
   "execution_count": 101,
   "id": "0d394eb9-e9fb-47fa-8504-77eee2700ac9",
   "metadata": {},
   "outputs": [
    {
     "name": "stdout",
     "output_type": "stream",
     "text": [
      "<class 'pandas.core.frame.DataFrame'>\n",
      "Index: 447 entries, 0 to 477\n",
      "Data columns (total 56 columns):\n",
      " #   Column                    Non-Null Count  Dtype  \n",
      "---  ------                    --------------  -----  \n",
      " 0   Season Number             447 non-null    int64  \n",
      " 1   Startup Name              447 non-null    object \n",
      " 2   Episode Number            447 non-null    int64  \n",
      " 3   Pitch Number              447 non-null    int64  \n",
      " 4   Season Start              447 non-null    object \n",
      " 5   Season End                447 non-null    object \n",
      " 6   Original Air Date         447 non-null    object \n",
      " 7   Episode Title             447 non-null    object \n",
      " 8   Anchor                    447 non-null    object \n",
      " 9   Industry                  447 non-null    object \n",
      " 10  Number of Presenters      447 non-null    int64  \n",
      " 11  Pitchers Average Age      447 non-null    object \n",
      " 12  Pitchers State            447 non-null    object \n",
      " 13  Original Ask Amount       447 non-null    float64\n",
      " 14  Original Offered Equity   447 non-null    float64\n",
      " 15  Valuation Requested       447 non-null    float64\n",
      " 16  Received Offer            447 non-null    int64  \n",
      " 17  Accepted Offer            447 non-null    int32  \n",
      " 18  Total Deal Amount         447 non-null    float64\n",
      " 19  Total Deal Equity         447 non-null    float64\n",
      " 20  Deal Valuation            447 non-null    float64\n",
      " 21  Number of Sharks in Deal  447 non-null    int64  \n",
      " 22  Namita Present            447 non-null    int32  \n",
      " 23  Vineeta Present           447 non-null    int32  \n",
      " 24  Anupam Present            447 non-null    int32  \n",
      " 25  Aman Present              447 non-null    int32  \n",
      " 26  Peyush Present            447 non-null    int32  \n",
      " 27  Ritesh Present            447 non-null    int32  \n",
      " 28  Amit Present              447 non-null    int32  \n",
      " 29  Guest Present             447 non-null    int32  \n",
      " 30  Aman Deal                 447 non-null    int64  \n",
      " 31  Namita Deal               447 non-null    int64  \n",
      " 32  Vineeta Deal              447 non-null    int64  \n",
      " 33  Anupam Deal               447 non-null    int64  \n",
      " 34  Peyush Deal               447 non-null    int64  \n",
      " 35  Ritesh Deal               447 non-null    int64  \n",
      " 36  Amit Deal                 447 non-null    int64  \n",
      " 37  deal_amount_per_shark     447 non-null    float64\n",
      " 38  equity_per_shark          447 non-null    float64\n",
      " 39  Boot Strapped             447 non-null    int64  \n",
      " 40  Ashneer Present           447 non-null    int64  \n",
      " 41  Azhar Present             447 non-null    int64  \n",
      " 42  Ghazal Present            447 non-null    int64  \n",
      " 43  Deepinder Present         447 non-null    int64  \n",
      " 44  Radhika Present           447 non-null    int64  \n",
      " 45  Vikas Present             447 non-null    int64  \n",
      " 46  Ronnie Present            447 non-null    int64  \n",
      " 47  Varun Present             447 non-null    int64  \n",
      " 48  Ashneer Deal              447 non-null    int64  \n",
      " 49  Azhar Deal                447 non-null    int64  \n",
      " 50  Ghazal Deal               447 non-null    int64  \n",
      " 51  Deepinder Deal            447 non-null    int64  \n",
      " 52  Radhika Deal              447 non-null    int64  \n",
      " 53  Vikas Deal                447 non-null    int64  \n",
      " 54  Ronnie Deal               447 non-null    int64  \n",
      " 55  Varun Deal                447 non-null    int64  \n",
      "dtypes: float64(8), int32(9), int64(30), object(9)\n",
      "memory usage: 183.3+ KB\n"
     ]
    }
   ],
   "source": [
    "filtered_df.info()"
   ]
  },
  {
   "cell_type": "code",
   "execution_count": 102,
   "id": "ba08b8bd-b98a-48d6-b7ec-be943d70b51d",
   "metadata": {},
   "outputs": [],
   "source": [
    "filtered_df.to_csv(\"filtered_df.csv\")"
   ]
  },
  {
   "cell_type": "code",
   "execution_count": 106,
   "id": "26b92c68-8eb1-49b7-ae2e-67966e952131",
   "metadata": {},
   "outputs": [
    {
     "ename": "TypeError",
     "evalue": "unsupported operand type(s) for -: 'list' and 'list'",
     "output_type": "error",
     "traceback": [
      "\u001b[1;31m---------------------------------------------------------------------------\u001b[0m",
      "\u001b[1;31mTypeError\u001b[0m                                 Traceback (most recent call last)",
      "Cell \u001b[1;32mIn[106], line 1\u001b[0m\n\u001b[1;32m----> 1\u001b[0m All_sharks\u001b[38;5;241m-\u001b[39mseason1_guests\n",
      "\u001b[1;31mTypeError\u001b[0m: unsupported operand type(s) for -: 'list' and 'list'"
     ]
    }
   ],
   "source": [
    "All_sharks-season1_guests"
   ]
  }
 ],
 "metadata": {
  "kernelspec": {
   "display_name": "Python 3 (ipykernel)",
   "language": "python",
   "name": "python3"
  },
  "language_info": {
   "codemirror_mode": {
    "name": "ipython",
    "version": 3
   },
   "file_extension": ".py",
   "mimetype": "text/x-python",
   "name": "python",
   "nbconvert_exporter": "python",
   "pygments_lexer": "ipython3",
   "version": "3.12.4"
  }
 },
 "nbformat": 4,
 "nbformat_minor": 5
}
