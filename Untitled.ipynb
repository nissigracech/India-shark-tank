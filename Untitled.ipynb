{
 "cells": [
  {
   "cell_type": "code",
   "execution_count": 1,
   "id": "31affa3b-cfb1-4dd5-8116-45373115dc47",
   "metadata": {},
   "outputs": [],
   "source": [
    "import pandas as pd"
   ]
  },
  {
   "cell_type": "code",
   "execution_count": 2,
   "id": "f3ca1ba3-123c-49ae-b7ac-5f86d2980205",
   "metadata": {},
   "outputs": [],
   "source": [
    "df=pd.read_csv(\"Shark Tank India.csv\")\n",
    "\n",
    "df = df[df['Episode Title'] != 'Unseen']\n",
    "\n",
    "df['Aman_deal'] = df['Aman Investment Amount'].map(lambda x: 1 if isinstance(x, (int, float)) and not pd.isna(x) else 0)\n",
    "df['Namita_deal'] = df['Namita Investment Amount'].map(lambda x: 1 if isinstance(x, (int, float)) and not pd.isna(x) else 0)\n",
    "df['Vineeta_deal'] = df['Vineeta Investment Amount'].map(lambda x: 1 if isinstance(x, (int, float)) and not pd.isna(x) else 0)\n",
    "df['Anupam_deal'] = df['Anupam Investment Amount'].map(lambda x: 1 if isinstance(x, (int, float)) and not pd.isna(x) else 0)\n",
    "df['peyush_deal'] = df['Peyush Investment Amount'].map(lambda x: 1 if isinstance(x, (int, float)) and not pd.isna(x) else 0)\n",
    "df['Ritesh_deal'] = df['Ritesh Investment Amount'].map(lambda x: 1 if isinstance(x, (int, float)) and not pd.isna(x) else 0)\n",
    "df['Amit_deal'] = df['Amit Investment Amount'].map(lambda x: 1 if isinstance(x, (int, float)) and not pd.isna(x) else 0)\n",
    "\n",
    "\n",
    "df['deal_amount_per_shark']=df['Total Deal Amount']/df['Number of Sharks in Deal']\n",
    "df['equity_per_shark']=df['Total Deal Equity']/df['Number of Sharks in Deal']\n",
    "\n",
    "\n",
    "df['Boot Strapped']=df['Bootstrapped'].map(lambda x: 1 if x in ['yes', 'funded'] else 0)\n",
    "df.drop('Bootstrapped' , axis=1, inplace=True)\n",
    "df['Pitchers State']=df['Pitchers State'].fillna(df['Pitchers State'].mode()[0])\n",
    "\n",
    "general_info=['Season Number', 'Startup Name',\n",
    "              'Episode Number', 'Pitch Number',\n",
    "              'Episode Title','Anchor', 'Industry',\n",
    "              'Number of Presenters','Pitchers Average Age',\n",
    "              'Original Ask Amount', 'Original Offered Equity',\n",
    "              'Valuation Requested', 'Received Offer', 'Accepted Offer',\n",
    "              'Total Deal Amount', 'Total Deal Equity',  'Deal Valuation', \n",
    "              'Number of Sharks in Deal','Pitchers State',\n",
    "              'Boot Strapped']\n",
    "\n",
    "\n",
    "time_details=['Season Start', 'Season End', 'Original Air Date']\n",
    "\n",
    "pitchers_business_details=['Business Description','Company Website',\n",
    "                           'Started in', 'Male Presenters',\n",
    "                           'Female Presenters', 'Transgender Presenters', \n",
    "                           'Couple Presenters','Pitchers City']\n",
    "\n",
    "brand_renvue_details=['Yearly Revenue', 'Monthly Sales', \n",
    "                      'Gross Margin', 'Net Margin',\n",
    "                      'EBITDA', 'Cash Burn',\n",
    "                      'SKUs', 'Has Patents','Part of Match off']\n",
    "\n",
    "more_into_pitching_brands=['Deal Has Conditions', 'Royalty Percentage', \n",
    "                           'Royalty Recouped Amount','Advisory Shares Equity']\n",
    "\n",
    "sharks_presence=['Namita Present', \n",
    "                 'Vineeta Present', 'Anupam Present',\n",
    "                 'Aman Present','Peyush Present',\n",
    "                 'Ritesh Present', 'Amit Present', 'Guest Present']\n",
    "\n",
    "Debt_details=['Total Deal Debt','Debt Interest','Namita Debt Amount', 'Vineeta Debt Amount','Anupam Debt Amount','Aman Debt Amount', 'Peyush Debt Amount',\n",
    "               'Ritesh Debt Amount', 'Amit Debt Amount','Guest Debt Amount']\n",
    "\n",
    "sharks_ivestment_equity_details=['Namita Investment Amount','Namita Investment Equity',  \n",
    "                                 'Vineeta Investment Amount', 'Vineeta Investment Equity', \n",
    "                                 'Anupam Investment Amount','Anupam Investment Equity',  \n",
    "                                 'Aman Investment Amount', 'Aman Investment Equity',  \n",
    "                                 'Peyush Investment Amount', 'Peyush Investment Equity', \n",
    "                                 'Ritesh Investment Amount', 'Ritesh Investment Equity',  \n",
    "                                 'Amit Investment Amount', 'Amit Investment Equity',  \n",
    "                                 'Guest Investment Amount', 'Guest Investment Equity']\n",
    "\n",
    "guest_related=['All Guest Names',]\n",
    "\n",
    "\n",
    "removing_col=brand_renvue_details+pitchers_business_details+sharks_ivestment_equity_details+Debt_details+more_into_pitching_brands\n",
    "filtered_df=df.drop(columns=removing_col)"
   ]
  },
  {
   "cell_type": "code",
   "execution_count": 3,
   "id": "5d39d72e-72c6-4156-a06d-7899b8c2846b",
   "metadata": {},
   "outputs": [],
   "source": [
    "filtered_df['Accepted Offer']=filtered_df['Accepted Offer'].fillna(-1)\n",
    "filtered_df['Accepted Offer']=filtered_df['Accepted Offer'].astype(int)"
   ]
  },
  {
   "cell_type": "code",
   "execution_count": 4,
   "id": "7ca9e422-40c6-48f3-b844-d053ed3b7ce4",
   "metadata": {},
   "outputs": [],
   "source": [
    "for i in sharks_presence:\n",
    "    filtered_df[i]=filtered_df[i].fillna(0)\n",
    "    filtered_df[i]=filtered_df[i].astype(int)"
   ]
  },
  {
   "cell_type": "code",
   "execution_count": 5,
   "id": "cbf74a00-9c08-4cb2-b8fd-76c7cf3b293f",
   "metadata": {},
   "outputs": [],
   "source": [
    "filtered_df['Number of Sharks in Deal']=filtered_df['Number of Sharks in Deal'].fillna(0)\n",
    "filtered_df['Number of Sharks in Deal']=filtered_df['Number of Sharks in Deal'].astype('int64')"
   ]
  },
  {
   "cell_type": "code",
   "execution_count": 6,
   "id": "2787bcad-65dd-4401-863d-f03a0c5a14ae",
   "metadata": {},
   "outputs": [],
   "source": [
    "filtered_df['Total Deal Amount']=filtered_df['Total Deal Amount'].fillna(0)\n",
    "filtered_df['Total Deal Equity']=filtered_df['Total Deal Equity'].fillna(0)\n",
    "filtered_df['Deal Valuation']=filtered_df['Deal Valuation'].fillna(0)\n",
    "filtered_df['deal_amount_per_shark']=filtered_df['deal_amount_per_shark'].fillna(0)\n",
    "filtered_df['equity_per_shark']=filtered_df['equity_per_shark'].fillna(0)\n"
   ]
  },
  {
   "cell_type": "code",
   "execution_count": 10,
   "id": "86311aa2-c1e3-4d3c-8109-2471154f22a2",
   "metadata": {},
   "outputs": [],
   "source": [
    "season1_df=filtered_df[filtered_df['Season Number']==1] \n",
    "season1_df.to_csv(\"s1.csv\")"
   ]
  },
  {
   "cell_type": "code",
   "execution_count": 8,
   "id": "6be14b2a-9fbc-4fb1-b1b5-a95dcc5bcda2",
   "metadata": {},
   "outputs": [],
   "source": [
    "season2_df=filtered_df[filtered_df['Season Number']==2] "
   ]
  },
  {
   "cell_type": "code",
   "execution_count": 22,
   "id": "6d498d1a-bc30-407a-b5c6-db7866d410cf",
   "metadata": {},
   "outputs": [],
   "source": [
    "season3_df=filtered_df[filtered_df['Season Number']==3] \n",
    "season3_df.to_csv(\"s3.csv\")"
   ]
  },
  {
   "cell_type": "code",
   "execution_count": 69,
   "id": "b593f331-1d0e-4d35-8513-8989617a3165",
   "metadata": {},
   "outputs": [],
   "source": [
    "season1_sharks_present=[]\n",
    "season2_sharks_present=[]\n",
    "season3_sharks_present=[]\n",
    "season1_sharks_deal=[]\n",
    "season2_sharks_deal=[]\n",
    "season3_sharks_deal=[]"
   ]
  },
  {
   "cell_type": "code",
   "execution_count": 11,
   "id": "c63dc477-9378-4679-a201-6284b392a8af",
   "metadata": {},
   "outputs": [
    {
     "data": {
      "text/plain": [
       "All Guest Names\n",
       "Ashneer Grover                    92\n",
       "Azhar Iqubal                      25\n",
       "Ghazal Alagh                      19\n",
       "Deepinder Goyal                   18\n",
       "Radhika Gupta                     15\n",
       "Ghazal Alagh,Ashneer Grover        7\n",
       "Vikas D Nahar                      4\n",
       "Ronnie Screwvala,Radhika Gupta     3\n",
       "Varun Dua,Radhika Gupta            3\n",
       "Azhar Iqubal,Radhika Gupta         3\n",
       "Name: count, dtype: int64"
      ]
     },
     "execution_count": 11,
     "metadata": {},
     "output_type": "execute_result"
    }
   ],
   "source": [
    "filtered_df['All Guest Names'].value_counts()"
   ]
  },
  {
   "cell_type": "code",
   "execution_count": 12,
   "id": "8e353e54-13ae-4b34-8d3c-e1d619980fda",
   "metadata": {},
   "outputs": [
    {
     "data": {
      "text/plain": [
       "Invested Guest Name\n",
       "Ashneer Grover                 20\n",
       "Ghazal Alagh                    6\n",
       "Azhar Iqubal                    5\n",
       "Radhika Gupta                   4\n",
       "Vikas D Nahar                   2\n",
       "Ronnie Screwvala                2\n",
       "Ghazal Alagh,Ashneer Grover     1\n",
       "Deepinder Goyal                 1\n",
       "Varun Dua,Radhika Gupta         1\n",
       "Varun Dua                       1\n",
       "Azhar Iqubal,Radhika Gupta      1\n",
       "Name: count, dtype: int64"
      ]
     },
     "execution_count": 12,
     "metadata": {},
     "output_type": "execute_result"
    }
   ],
   "source": [
    "filtered_df['Invested Guest Name'].value_counts()"
   ]
  },
  {
   "cell_type": "code",
   "execution_count": 13,
   "id": "8b40dcb0-ac46-455c-8397-5f003649b280",
   "metadata": {},
   "outputs": [],
   "source": [
    "Guest_list=['Ashneer Grover','Azhar Iqubal','Ghazal Alagh',\n",
    "            'Deepinder Goyal','Radhika Gupta','Vikas D Nahar',\n",
    "            'Ronnie Screwvala','Varun Dua']\n",
    "guest_list_short_cut=['Ashneer','Azhar','Ghazal',\n",
    "            'Deepinder','Radhika','Vikas',\n",
    "            'Ronnie','Varun']"
   ]
  },
  {
   "cell_type": "code",
   "execution_count": 15,
   "id": "717d8881-ab93-48f6-a296-7f69367336a0",
   "metadata": {},
   "outputs": [],
   "source": [
    "j=0\n",
    "for i in Guest_list:\n",
    "    new_col=guest_list_short_cut[j]+'_present'\n",
    "    filtered_df[new_col]=filtered_df['All Guest Names'].apply(lambda x: 1 if pd.notna(x) and i in x else 0)\n",
    "    filtered_df[new_col] = filtered_df['All Guest Names'].apply(lambda x: 1 if pd.notna(x) and i in x else 0)\n",
    "    filtered_df['All Guest Names'] = filtered_df['All Guest Names'].apply(lambda x: x.replace(i, '').strip() if pd.notna(x) else x)\n",
    "    filtered_df['All Guest Names'] = filtered_df['All Guest Names'].apply(lambda x: x.replace(i, '').strip() if pd.notna(x) else x)\n",
    "    j+=1\n"
   ]
  },
  {
   "cell_type": "code",
   "execution_count": null,
   "id": "9212e027-5e73-4e97-88ef-9ca0936ea33c",
   "metadata": {},
   "outputs": [],
   "source": [
    "filtered_df.to_csv(\"k.csv\")"
   ]
  },
  {
   "cell_type": "code",
   "execution_count": 16,
   "id": "b5b001fa-2117-4b74-b5ca-8649415d971a",
   "metadata": {},
   "outputs": [],
   "source": [
    "k=0\n",
    "for i in Guest_list:\n",
    "    new_col=guest_list_short_cut[k]+'_deal'\n",
    "    filtered_df[new_col]=filtered_df['Invested Guest Name'].apply(lambda x: 1 if pd.notna(x) and i in x else 0)\n",
    "    filtered_df[new_col] = filtered_df['Invested Guest Name'].apply(lambda x: 1 if pd.notna(x) and i in x else 0)\n",
    "    filtered_df['Invested Guest Name'] = filtered_df['Invested Guest Name'].apply(lambda x: x.replace(i, '').strip() if pd.notna(x) else x)\n",
    "    filtered_df['Invested Guest Name'] = filtered_df['Invested Guest Name'].apply(lambda x: x.replace(i, '').strip() if pd.notna(x) else x)\n",
    "    k+=1\n"
   ]
  },
  {
   "cell_type": "code",
   "execution_count": 17,
   "id": "54cfef02-fa6f-48fa-8fce-328f01f40fea",
   "metadata": {},
   "outputs": [
    {
     "data": {
      "text/plain": [
       "All Guest Names\n",
       "     173\n",
       ",     16\n",
       "Name: count, dtype: int64"
      ]
     },
     "execution_count": 17,
     "metadata": {},
     "output_type": "execute_result"
    }
   ],
   "source": [
    "filtered_df['All Guest Names'].value_counts()"
   ]
  },
  {
   "cell_type": "code",
   "execution_count": 18,
   "id": "ce4d3168-7246-417a-bc93-3c784bb00084",
   "metadata": {},
   "outputs": [
    {
     "data": {
      "text/plain": [
       "Invested Guest Name\n",
       "     41\n",
       ",     3\n",
       "Name: count, dtype: int64"
      ]
     },
     "execution_count": 18,
     "metadata": {},
     "output_type": "execute_result"
    }
   ],
   "source": [
    "filtered_df['Invested Guest Name'].value_counts()"
   ]
  },
  {
   "cell_type": "code",
   "execution_count": 19,
   "id": "66f77124-4e8a-49f2-8611-0c950b9faa0a",
   "metadata": {},
   "outputs": [],
   "source": [
    "filtered_df.to_csv(\"a.csv\")"
   ]
  },
  {
   "cell_type": "code",
   "execution_count": 20,
   "id": "acb63205-91b5-4450-b04e-ea857bd99ee8",
   "metadata": {},
   "outputs": [],
   "source": [
    "filtered_df.drop(columns=['Invested Guest Name','All Guest Names'],inplace=True)"
   ]
  },
  {
   "cell_type": "code",
   "execution_count": 100,
   "id": "1723e1cb-a6a1-4ae3-8b35-506163e06e9b",
   "metadata": {},
   "outputs": [
    {
     "name": "stdout",
     "output_type": "stream",
     "text": [
      "<class 'pandas.core.frame.DataFrame'>\n",
      "Index: 447 entries, 0 to 477\n",
      "Data columns (total 56 columns):\n",
      " #   Column                    Non-Null Count  Dtype  \n",
      "---  ------                    --------------  -----  \n",
      " 0   Season Number             447 non-null    int64  \n",
      " 1   Startup Name              447 non-null    object \n",
      " 2   Episode Number            447 non-null    int64  \n",
      " 3   Pitch Number              447 non-null    int64  \n",
      " 4   Season Start              447 non-null    object \n",
      " 5   Season End                447 non-null    object \n",
      " 6   Original Air Date         447 non-null    object \n",
      " 7   Episode Title             447 non-null    object \n",
      " 8   Anchor                    447 non-null    object \n",
      " 9   Industry                  447 non-null    object \n",
      " 10  Number of Presenters      447 non-null    int64  \n",
      " 11  Pitchers Average Age      447 non-null    object \n",
      " 12  Pitchers State            447 non-null    object \n",
      " 13  Original Ask Amount       447 non-null    float64\n",
      " 14  Original Offered Equity   447 non-null    float64\n",
      " 15  Valuation Requested       447 non-null    float64\n",
      " 16  Received Offer            447 non-null    int64  \n",
      " 17  Accepted Offer            447 non-null    int32  \n",
      " 18  Total Deal Amount         447 non-null    float64\n",
      " 19  Total Deal Equity         447 non-null    float64\n",
      " 20  Deal Valuation            447 non-null    float64\n",
      " 21  Number of Sharks in Deal  447 non-null    int64  \n",
      " 22  Namita Present            447 non-null    int32  \n",
      " 23  Vineeta Present           447 non-null    int32  \n",
      " 24  Anupam Present            447 non-null    int32  \n",
      " 25  Aman Present              447 non-null    int32  \n",
      " 26  Peyush Present            447 non-null    int32  \n",
      " 27  Ritesh Present            447 non-null    int32  \n",
      " 28  Amit Present              447 non-null    int32  \n",
      " 29  Guest Present             447 non-null    int32  \n",
      " 30  Aman_deal                 447 non-null    int64  \n",
      " 31  Namita_deal               447 non-null    int64  \n",
      " 32  Vineeta_deal              447 non-null    int64  \n",
      " 33  Anupam_deal               447 non-null    int64  \n",
      " 34  peyush_deal               447 non-null    int64  \n",
      " 35  Ritesh_deal               447 non-null    int64  \n",
      " 36  Amit_deal                 447 non-null    int64  \n",
      " 37  deal_amount_per_shark     447 non-null    float64\n",
      " 38  equity_per_shark          447 non-null    float64\n",
      " 39  Boot Strapped             447 non-null    int64  \n",
      " 40  Ashneer_present           447 non-null    int64  \n",
      " 41  Azhar_present             447 non-null    int64  \n",
      " 42  Ghazal_present            447 non-null    int64  \n",
      " 43  Deepinder_present         447 non-null    int64  \n",
      " 44  Radhika_present           447 non-null    int64  \n",
      " 45  Vikas_present             447 non-null    int64  \n",
      " 46  Ronnie_present            447 non-null    int64  \n",
      " 47  Varun_present             447 non-null    int64  \n",
      " 48  Ashneer_deal              447 non-null    int64  \n",
      " 49  Azhar_deal                447 non-null    int64  \n",
      " 50  Ghazal_deal               447 non-null    int64  \n",
      " 51  Deepinder_deal            447 non-null    int64  \n",
      " 52  Radhika_deal              447 non-null    int64  \n",
      " 53  Vikas_deal                447 non-null    int64  \n",
      " 54  Ronnie_deal               447 non-null    int64  \n",
      " 55  Varun_deal                447 non-null    int64  \n",
      "dtypes: float64(8), int32(9), int64(30), object(9)\n",
      "memory usage: 183.3+ KB\n"
     ]
    }
   ],
   "source": [
    "filtered_df.info()"
   ]
  },
  {
   "cell_type": "code",
   "execution_count": 27,
   "id": "fd32d439-84b4-4ded-860b-3b95bf16f76a",
   "metadata": {},
   "outputs": [
    {
     "data": {
      "text/plain": [
       "36"
      ]
     },
     "execution_count": 27,
     "metadata": {},
     "output_type": "execute_result"
    }
   ],
   "source": [
    "season1_df['Episode Number'].nunique()"
   ]
  },
  {
   "cell_type": "code",
   "execution_count": 28,
   "id": "61f56f1c-fa94-4f90-92f4-871899ab16ef",
   "metadata": {},
   "outputs": [
    {
     "data": {
      "text/plain": [
       "52"
      ]
     },
     "execution_count": 28,
     "metadata": {},
     "output_type": "execute_result"
    }
   ],
   "source": [
    "season3_df['Episode Number'].nunique()"
   ]
  }
 ],
 "metadata": {
  "kernelspec": {
   "display_name": "Python 3 (ipykernel)",
   "language": "python",
   "name": "python3"
  },
  "language_info": {
   "codemirror_mode": {
    "name": "ipython",
    "version": 3
   },
   "file_extension": ".py",
   "mimetype": "text/x-python",
   "name": "python",
   "nbconvert_exporter": "python",
   "pygments_lexer": "ipython3",
   "version": "3.12.4"
  }
 },
 "nbformat": 4,
 "nbformat_minor": 5
}
