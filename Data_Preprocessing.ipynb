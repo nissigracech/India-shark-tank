{
 "cells": [
  {
   "cell_type": "code",
   "execution_count": 140,
   "id": "d963dfc7-f840-431e-ae59-3882d33802c7",
   "metadata": {},
   "outputs": [],
   "source": [
    "import pandas as pd"
   ]
  },
  {
   "cell_type": "code",
   "execution_count": 151,
   "id": "42598d8a-e2c9-448c-8311-e04c8916230e",
   "metadata": {},
   "outputs": [],
   "source": [
    "# read the dataset\n",
    "df=pd.read_csv(\"Shark Tank India.csv\")"
   ]
  },
  {
   "cell_type": "code",
   "execution_count": 142,
   "id": "04afd1f5-d0fb-4435-bbd0-26e52dc0f8b5",
   "metadata": {},
   "outputs": [
    {
     "data": {
      "text/plain": [
       "478"
      ]
     },
     "execution_count": 142,
     "metadata": {},
     "output_type": "execute_result"
    }
   ],
   "source": [
    "len(df)"
   ]
  },
  {
   "cell_type": "code",
   "execution_count": 152,
   "id": "d021f135-a57f-477a-af16-5be480193f40",
   "metadata": {},
   "outputs": [
    {
     "data": {
      "text/plain": [
       "80"
      ]
     },
     "execution_count": 152,
     "metadata": {},
     "output_type": "execute_result"
    }
   ],
   "source": [
    "len(df.columns)"
   ]
  },
  {
   "cell_type": "code",
   "execution_count": 144,
   "id": "e04b1756-2e95-4815-a7a0-88f81c00e735",
   "metadata": {},
   "outputs": [],
   "source": [
    "df = df[df['Episode Title'] != 'Unseen']"
   ]
  },
  {
   "cell_type": "code",
   "execution_count": 153,
   "id": "6be473b2-7da9-46de-aa28-61a735c294c9",
   "metadata": {},
   "outputs": [],
   "source": [
    "\n",
    "general_info=['Season Number', 'Startup Name',\n",
    "              'Episode Number', 'Pitch Number',\n",
    "              'Episode Title','Anchor', 'Industry',\n",
    "              'Number of Presenters','Pitchers Average Age',\n",
    "              'Original Ask Amount', 'Original Offered Equity',\n",
    "              'Valuation Requested', 'Received Offer', 'Accepted Offer',\n",
    "              'Total Deal Amount', 'Total Deal Equity',  'Deal Valuation', \n",
    "              'Number of Sharks in Deal','Pitchers State']"
   ]
  },
  {
   "cell_type": "code",
   "execution_count": 154,
   "id": "781a736f-84fb-4ffa-92b1-3f64883356ac",
   "metadata": {},
   "outputs": [],
   "source": [
    "time_details=['Season Start', 'Season End', 'Original Air Date']"
   ]
  },
  {
   "cell_type": "code",
   "execution_count": 155,
   "id": "19710d1b-8d06-432a-b496-29618dca6f87",
   "metadata": {},
   "outputs": [],
   "source": [
    "pitchers_business_details=['Bootstrapped','Company Website',\n",
    "                           'Started in', 'Male Presenters',\n",
    "                           'Female Presenters', 'Transgender Presenters', \n",
    "                           'Couple Presenters','Pitchers City']"
   ]
  },
  {
   "cell_type": "code",
   "execution_count": 156,
   "id": "64d49ba0-563c-4bc5-b2ef-d2c096db4bc8",
   "metadata": {},
   "outputs": [],
   "source": [
    "brand_renvue_details=['Yearly Revenue', 'Monthly Sales', \n",
    "                      'Gross Margin', 'Net Margin',\n",
    "                      'EBITDA', 'Cash Burn','SKUs', \n",
    "                      'Has Patents','Part of Match off',\n",
    "                      'Deal Has Conditions', 'Royalty Percentage', \n",
    "                      'Royalty Recouped Amount','Advisory Shares Equity']"
   ]
  },
  {
   "cell_type": "code",
   "execution_count": 157,
   "id": "91fbd615-ab63-40bc-8a45-1066950648b9",
   "metadata": {},
   "outputs": [],
   "source": [
    "sharks_presence=['Namita Present', \n",
    "                 'Vineeta Present', 'Anupam Present',\n",
    "                 'Aman Present','Peyush Present',\n",
    "                 'Ritesh Present', 'Amit Present', 'Guest Present']"
   ]
  },
  {
   "cell_type": "code",
   "execution_count": 158,
   "id": "8a659bb0-c103-4f98-950d-d94a1baad6ba",
   "metadata": {},
   "outputs": [],
   "source": [
    "Debt_details=['Total Deal Debt','Debt Interest','Namita Debt Amount',\n",
    "              'Vineeta Debt Amount','Anupam Debt Amount',\n",
    "              'Aman Debt Amount', 'Peyush Debt Amount',\n",
    "               'Ritesh Debt Amount', 'Amit Debt Amount','Guest Debt Amount']"
   ]
  },
  {
   "cell_type": "code",
   "execution_count": 159,
   "id": "c5b9abad-1c74-4244-bb9a-d150447d8e8a",
   "metadata": {},
   "outputs": [],
   "source": [
    "sharks_ivestment_equity_details=['Namita Investment Amount','Namita Investment Equity',  \n",
    "                                 'Vineeta Investment Amount', 'Vineeta Investment Equity', \n",
    "                                 'Anupam Investment Amount','Anupam Investment Equity',  \n",
    "                                 'Aman Investment Amount', 'Aman Investment Equity',  \n",
    "                                 'Peyush Investment Amount', 'Peyush Investment Equity', \n",
    "                                 'Ritesh Investment Amount', 'Ritesh Investment Equity',  \n",
    "                                 'Amit Investment Amount', 'Amit Investment Equity',  \n",
    "                                 'Guest Investment Amount', 'Guest Investment Equity']"
   ]
  },
  {
   "cell_type": "code",
   "execution_count": 160,
   "id": "0d34cd59-642c-4090-a977-0693cefe5976",
   "metadata": {},
   "outputs": [],
   "source": [
    "guest_related=['All Guest Names']"
   ]
  },
  {
   "cell_type": "code",
   "execution_count": 133,
   "id": "a3d2b662-1d9b-449b-8506-65c022d55c9e",
   "metadata": {},
   "outputs": [
    {
     "data": {
      "text/plain": [
       "447"
      ]
     },
     "execution_count": 133,
     "metadata": {},
     "output_type": "execute_result"
    }
   ],
   "source": [
    "len(filtered_df)"
   ]
  },
  {
   "cell_type": "code",
   "execution_count": 134,
   "id": "4bbddef5-b11b-4bb2-84e5-9bf452c6e966",
   "metadata": {},
   "outputs": [
    {
     "data": {
      "text/plain": [
       "33"
      ]
     },
     "execution_count": 134,
     "metadata": {},
     "output_type": "execute_result"
    }
   ],
   "source": [
    "len(filtered_df.columns)"
   ]
  },
  {
   "cell_type": "code",
   "execution_count": 161,
   "id": "d5ac77f9-c02c-4404-971b-0f14b33e801c",
   "metadata": {},
   "outputs": [],
   "source": [
    "guest_list=['Ashneer','Azhar','Ghazal',\n",
    "            'Deepinder','Radhika','Vikas',\n",
    "            'Ronnie','Varun']"
   ]
  },
  {
   "cell_type": "code",
   "execution_count": 162,
   "id": "e4a40990-6b39-45c7-87d4-3fb49ba8c698",
   "metadata": {},
   "outputs": [],
   "source": [
    "j=0\n",
    "for i in guest_list:\n",
    "    new_col=guest_list[j]+' Present'\n",
    "    df[new_col]=filtered_df['All Guest Names'].apply(lambda x: 1 if pd.notna(x) and i in x else 0)\n",
    "    df[new_col] =  df['All Guest Names'].apply(lambda x: 1 if pd.notna(x) and i in x else 0)\n",
    "    df['All Guest Names'] = df['All Guest Names'].apply(lambda x: x.replace(i, '').strip() if pd.notna(x) else x)\n",
    "    df['All Guest Names'] = df['All Guest Names'].apply(lambda x: x.replace(i, '').strip() if pd.notna(x) else x)\n",
    "    j+=1"
   ]
  },
  {
   "cell_type": "code",
   "execution_count": 137,
   "id": "321392d6-15ba-49cc-b522-e449e06ef581",
   "metadata": {},
   "outputs": [
    {
     "data": {
      "text/plain": [
       "41"
      ]
     },
     "execution_count": 137,
     "metadata": {},
     "output_type": "execute_result"
    }
   ],
   "source": [
    "len(filtered_df.columns)"
   ]
  },
  {
   "cell_type": "code",
   "execution_count": 163,
   "id": "02d6dbe5-e3a9-4b27-8642-43390b6cd3ad",
   "metadata": {},
   "outputs": [],
   "source": [
    "df['Namita Deal'] = df['Namita Investment Amount'].map(lambda x: 1 if isinstance(x, (int, float)) and not pd.isna(x) else 0)\n",
    "df['Vineeta Deal'] = df['Vineeta Investment Amount'].map(lambda x: 1 if isinstance(x, (int, float)) and not pd.isna(x) else 0)\n",
    "df['Anupam Deal'] = df['Anupam Investment Amount'].map(lambda x: 1 if isinstance(x, (int, float)) and not pd.isna(x) else 0)\n",
    "df['Aman Deal'] = df['Aman Investment Amount'].map(lambda x: 1 if isinstance(x, (int, float)) and not pd.isna(x) else 0)\n",
    "df['peyush Deal'] = df['Peyush Investment Amount'].map(lambda x: 1 if isinstance(x, (int, float)) and not pd.isna(x) else 0)\n",
    "df['Ritesh Deal'] = df['Ritesh Investment Amount'].map(lambda x: 1 if isinstance(x, (int, float)) and not pd.isna(x) else 0)\n",
    "df['Amit Deal'] = df['Amit Investment Amount'].map(lambda x: 1 if isinstance(x, (int, float)) and not pd.isna(x) else 0)"
   ]
  },
  {
   "cell_type": "code",
   "execution_count": 165,
   "id": "47270b9c-418e-4052-9d76-e73ad8492d49",
   "metadata": {},
   "outputs": [],
   "source": [
    "k=0\n",
    "for i in guest_list:\n",
    "    new_col=guest_list_short_cut[k]+' Deal'\n",
    "    df[new_col] = df['Invested Guest Name'].apply(lambda x: 1 if pd.notna(x) and i in x else 0)\n",
    "    df[new_col] = df['Invested Guest Name'].apply(lambda x: 1 if pd.notna(x) and i in x else 0)\n",
    "    df['Invested Guest Name'] = df['Invested Guest Name'].apply(lambda x: x.replace(i, '').strip() if pd.notna(x) else x)\n",
    "    df['Invested Guest Name'] = df['Invested Guest Name'].apply(lambda x: x.replace(i, '').strip() if pd.notna(x) else x)\n",
    "    k+=1"
   ]
  },
  {
   "cell_type": "code",
   "execution_count": 166,
   "id": "e8a9dcc8-09f8-4e3e-9f79-6174e26909dc",
   "metadata": {},
   "outputs": [],
   "source": [
    "df.drop(columns=['Invested Guest Name','All Guest Names'],inplace=True)"
   ]
  },
  {
   "cell_type": "code",
   "execution_count": 167,
   "id": "67605c60-c6e7-4d61-81e3-a98618b96416",
   "metadata": {},
   "outputs": [],
   "source": [
    "df['deal_amount_per_shark']= df['Total Deal Amount']/filtered_df['Number of Sharks in Deal']\n",
    "df['equity_per_shark']= df['Total Deal Equity']/filtered_df['Number of Sharks in Deal']"
   ]
  },
  {
   "cell_type": "code",
   "execution_count": 168,
   "id": "4fa67c2c-1292-4132-b1b7-57f1080ce3c6",
   "metadata": {},
   "outputs": [],
   "source": [
    "df['Pitchers State'] = df['Pitchers State'].fillna(df['Pitchers State'].mode()[0])"
   ]
  },
  {
   "cell_type": "code",
   "execution_count": 170,
   "id": "fbdc9f5c-64e5-4df3-a7aa-ebce9e33de53",
   "metadata": {},
   "outputs": [],
   "source": [
    "df['Accepted Offer'] = df['Accepted Offer'].fillna(0)\n",
    "df['Accepted Offer'] = df['Accepted Offer'].astype(int)"
   ]
  },
  {
   "cell_type": "code",
   "execution_count": 171,
   "id": "870a8c79-7658-428f-993f-c7291e5535a1",
   "metadata": {},
   "outputs": [
    {
     "name": "stderr",
     "output_type": "stream",
     "text": [
      "C:\\Users\\nissi\\AppData\\Local\\Temp\\ipykernel_56336\\1039943576.py:2: UserWarning: Could not infer format, so each element will be parsed individually, falling back to `dateutil`. To ensure parsing is consistent and as-expected, please specify a format.\n",
      "  df[i] = pd.to_datetime(df[i], errors='coerce')\n",
      "C:\\Users\\nissi\\AppData\\Local\\Temp\\ipykernel_56336\\1039943576.py:2: UserWarning: Could not infer format, so each element will be parsed individually, falling back to `dateutil`. To ensure parsing is consistent and as-expected, please specify a format.\n",
      "  df[i] = pd.to_datetime(df[i], errors='coerce')\n",
      "C:\\Users\\nissi\\AppData\\Local\\Temp\\ipykernel_56336\\1039943576.py:2: UserWarning: Could not infer format, so each element will be parsed individually, falling back to `dateutil`. To ensure parsing is consistent and as-expected, please specify a format.\n",
      "  df[i] = pd.to_datetime(df[i], errors='coerce')\n"
     ]
    }
   ],
   "source": [
    "for i in time_details:\n",
    "    df[i] = pd.to_datetime(df[i], errors='coerce')\n",
    "    df[i] = df[i].dt.strftime('%d %b %Y')"
   ]
  },
  {
   "cell_type": "code",
   "execution_count": 172,
   "id": "0532619f-98ee-4247-b3f2-e50dbf844bf3",
   "metadata": {},
   "outputs": [],
   "source": [
    "for i in sharks_presence:\n",
    "    df[i] = df[i].fillna(0)\n",
    "    df[i] = df[i].astype(int)"
   ]
  },
  {
   "cell_type": "code",
   "execution_count": 173,
   "id": "904cb465-3ac5-4212-b4dd-4b3a1863b0fb",
   "metadata": {},
   "outputs": [],
   "source": [
    "df['Number of Sharks in Deal'] = df['Number of Sharks in Deal'].fillna(0)\n",
    "df['Number of Sharks in Deal'] = df['Number of Sharks in Deal'].astype('int64')\n",
    "df['Total Deal Amount'] = df['Total Deal Amount'].fillna(0)\n",
    "df['Total Deal Equity'] = df['Total Deal Equity'].fillna(0)\n",
    "df['Deal Valuation'] = df['Deal Valuation'].fillna(0)\n",
    "df['deal_amount_per_shark'] = df['deal_amount_per_shark'].fillna(0)\n",
    "df['equity_per_shark'] = df['equity_per_shark'].fillna(0)"
   ]
  },
  {
   "cell_type": "code",
   "execution_count": 174,
   "id": "51099de0-2af8-4b18-98fa-60297af9f5b3",
   "metadata": {},
   "outputs": [],
   "source": [
    "removing_col=brand_renvue_details+pitchers_business_details+sharks_ivestment_equity_details+Debt_details \n",
    "filtered_df=df.drop(columns=removing_col)"
   ]
  },
  {
   "cell_type": "code",
   "execution_count": 175,
   "id": "7d6a7d41-fa19-413a-b994-ce19e694e455",
   "metadata": {},
   "outputs": [],
   "source": [
    "df.to_csv(\"filtered_df.csv\")"
   ]
  },
  {
   "cell_type": "code",
   "execution_count": 176,
   "id": "47c8fb3e-2b90-410c-84fd-f28158c75972",
   "metadata": {},
   "outputs": [
    {
     "name": "stdout",
     "output_type": "stream",
     "text": [
      "<class 'pandas.core.frame.DataFrame'>\n",
      "RangeIndex: 478 entries, 0 to 477\n",
      "Data columns (total 56 columns):\n",
      " #   Column                    Non-Null Count  Dtype  \n",
      "---  ------                    --------------  -----  \n",
      " 0   Season Number             478 non-null    int64  \n",
      " 1   Startup Name              478 non-null    object \n",
      " 2   Episode Number            478 non-null    int64  \n",
      " 3   Pitch Number              478 non-null    int64  \n",
      " 4   Season Start              478 non-null    object \n",
      " 5   Season End                478 non-null    object \n",
      " 6   Original Air Date         447 non-null    object \n",
      " 7   Episode Title             478 non-null    object \n",
      " 8   Anchor                    478 non-null    object \n",
      " 9   Industry                  478 non-null    object \n",
      " 10  Business Description      478 non-null    object \n",
      " 11  Number of Presenters      478 non-null    int64  \n",
      " 12  Pitchers Average Age      478 non-null    object \n",
      " 13  Pitchers State            478 non-null    object \n",
      " 14  Original Ask Amount       478 non-null    float64\n",
      " 15  Original Offered Equity   478 non-null    float64\n",
      " 16  Valuation Requested       478 non-null    float64\n",
      " 17  Received Offer            478 non-null    int64  \n",
      " 18  Accepted Offer            478 non-null    int32  \n",
      " 19  Total Deal Amount         478 non-null    float64\n",
      " 20  Total Deal Equity         478 non-null    float64\n",
      " 21  Deal Valuation            478 non-null    float64\n",
      " 22  Number of Sharks in Deal  478 non-null    int64  \n",
      " 23  Namita Present            478 non-null    int32  \n",
      " 24  Vineeta Present           478 non-null    int32  \n",
      " 25  Anupam Present            478 non-null    int32  \n",
      " 26  Aman Present              478 non-null    int32  \n",
      " 27  Peyush Present            478 non-null    int32  \n",
      " 28  Ritesh Present            478 non-null    int32  \n",
      " 29  Amit Present              478 non-null    int32  \n",
      " 30  Guest Present             478 non-null    int32  \n",
      " 31  Ashneer Present           478 non-null    int64  \n",
      " 32  Azhar Present             478 non-null    int64  \n",
      " 33  Ghazal Present            478 non-null    int64  \n",
      " 34  Deepinder Present         478 non-null    int64  \n",
      " 35  Radhika Present           478 non-null    int64  \n",
      " 36  Vikas Present             478 non-null    int64  \n",
      " 37  Ronnie Present            478 non-null    int64  \n",
      " 38  Varun Present             478 non-null    int64  \n",
      " 39  Namita Deal               478 non-null    int64  \n",
      " 40  Vineeta Deal              478 non-null    int64  \n",
      " 41  Anupam Deal               478 non-null    int64  \n",
      " 42  Aman Deal                 478 non-null    int64  \n",
      " 43  peyush Deal               478 non-null    int64  \n",
      " 44  Ritesh Deal               478 non-null    int64  \n",
      " 45  Amit Deal                 478 non-null    int64  \n",
      " 46  Ashneer Deal              478 non-null    int64  \n",
      " 47  Azhar Deal                478 non-null    int64  \n",
      " 48  Ghazal Deal               478 non-null    int64  \n",
      " 49  Deepinder Deal            478 non-null    int64  \n",
      " 50  Radhika Deal              478 non-null    int64  \n",
      " 51  Vikas Deal                478 non-null    int64  \n",
      " 52  Ronnie Deal               478 non-null    int64  \n",
      " 53  Varun Deal                478 non-null    int64  \n",
      " 54  deal_amount_per_shark     478 non-null    float64\n",
      " 55  equity_per_shark          478 non-null    float64\n",
      "dtypes: float64(8), int32(9), int64(29), object(10)\n",
      "memory usage: 192.4+ KB\n"
     ]
    }
   ],
   "source": [
    "filtered_df.info()"
   ]
  }
 ],
 "metadata": {
  "kernelspec": {
   "display_name": "Python 3 (ipykernel)",
   "language": "python",
   "name": "python3"
  },
  "language_info": {
   "codemirror_mode": {
    "name": "ipython",
    "version": 3
   },
   "file_extension": ".py",
   "mimetype": "text/x-python",
   "name": "python",
   "nbconvert_exporter": "python",
   "pygments_lexer": "ipython3",
   "version": "3.12.4"
  }
 },
 "nbformat": 4,
 "nbformat_minor": 5
}
