{
 "cells": [
  {
   "cell_type": "code",
   "execution_count": 30,
   "id": "d963dfc7-f840-431e-ae59-3882d33802c7",
   "metadata": {},
   "outputs": [],
   "source": [
    "import pandas as pd"
   ]
  },
  {
   "cell_type": "code",
   "execution_count": 50,
   "id": "42598d8a-e2c9-448c-8311-e04c8916230e",
   "metadata": {},
   "outputs": [],
   "source": [
    "# read the dataset\n",
    "df=pd.read_csv(\"Shark Tank India.csv\")"
   ]
  },
  {
   "cell_type": "code",
   "execution_count": 19,
   "id": "04afd1f5-d0fb-4435-bbd0-26e52dc0f8b5",
   "metadata": {},
   "outputs": [
    {
     "data": {
      "text/plain": [
       "447"
      ]
     },
     "execution_count": 19,
     "metadata": {},
     "output_type": "execute_result"
    }
   ],
   "source": [
    "len(df)"
   ]
  },
  {
   "cell_type": "code",
   "execution_count": 22,
   "id": "d021f135-a57f-477a-af16-5be480193f40",
   "metadata": {},
   "outputs": [
    {
     "data": {
      "text/plain": [
       "80"
      ]
     },
     "execution_count": 22,
     "metadata": {},
     "output_type": "execute_result"
    }
   ],
   "source": [
    "len(df.columns)"
   ]
  },
  {
   "cell_type": "code",
   "execution_count": 51,
   "id": "e04b1756-2e95-4815-a7a0-88f81c00e735",
   "metadata": {},
   "outputs": [],
   "source": [
    "df = df[df['Episode Title'] != 'Unseen']"
   ]
  },
  {
   "cell_type": "code",
   "execution_count": 52,
   "id": "6be473b2-7da9-46de-aa28-61a735c294c9",
   "metadata": {},
   "outputs": [],
   "source": [
    "general_info=['Season Number', 'Startup Name',\n",
    "              'Episode Number', 'Pitch Number',\n",
    "              'Episode Title','Anchor', 'Industry',\n",
    "              'Number of Presenters','Pitchers Average Age',\n",
    "              'Original Ask Amount', 'Original Offered Equity',\n",
    "              'Valuation Requested', 'Received Offer', 'Accepted Offer',\n",
    "              'Total Deal Amount', 'Total Deal Equity',  'Deal Valuation', \n",
    "              'Number of Sharks in Deal','Pitchers State']"
   ]
  },
  {
   "cell_type": "code",
   "execution_count": 53,
   "id": "781a736f-84fb-4ffa-92b1-3f64883356ac",
   "metadata": {},
   "outputs": [],
   "source": [
    "time_details=['Season Start', 'Season End', 'Original Air Date']"
   ]
  },
  {
   "cell_type": "code",
   "execution_count": 61,
   "id": "19710d1b-8d06-432a-b496-29618dca6f87",
   "metadata": {},
   "outputs": [],
   "source": [
    "pitchers_business_details=['Bootstrapped','Company Website',\n",
    "                           'Started in', 'Male Presenters',\n",
    "                           'Female Presenters', 'Transgender Presenters', \n",
    "                           'Couple Presenters','Pitchers City']"
   ]
  },
  {
   "cell_type": "code",
   "execution_count": 55,
   "id": "64d49ba0-563c-4bc5-b2ef-d2c096db4bc8",
   "metadata": {},
   "outputs": [],
   "source": [
    "brand_renvue_details=['Yearly Revenue', 'Monthly Sales', \n",
    "                      'Gross Margin', 'Net Margin',\n",
    "                      'EBITDA', 'Cash Burn','SKUs', \n",
    "                      'Has Patents','Part of Match off',\n",
    "                      'Deal Has Conditions', 'Royalty Percentage', \n",
    "                      'Royalty Recouped Amount','Advisory Shares Equity']"
   ]
  },
  {
   "cell_type": "code",
   "execution_count": 56,
   "id": "91fbd615-ab63-40bc-8a45-1066950648b9",
   "metadata": {},
   "outputs": [],
   "source": [
    "sharks_presence=['Namita Present', \n",
    "                 'Vineeta Present', 'Anupam Present',\n",
    "                 'Aman Present','Peyush Present',\n",
    "                 'Ritesh Present', 'Amit Present', 'Guest Present']"
   ]
  },
  {
   "cell_type": "code",
   "execution_count": 57,
   "id": "8a659bb0-c103-4f98-950d-d94a1baad6ba",
   "metadata": {},
   "outputs": [],
   "source": [
    "Debt_details=['Total Deal Debt','Debt Interest','Namita Debt Amount',\n",
    "              'Vineeta Debt Amount','Anupam Debt Amount',\n",
    "              'Aman Debt Amount', 'Peyush Debt Amount',\n",
    "               'Ritesh Debt Amount', 'Amit Debt Amount','Guest Debt Amount']"
   ]
  },
  {
   "cell_type": "code",
   "execution_count": 58,
   "id": "c5b9abad-1c74-4244-bb9a-d150447d8e8a",
   "metadata": {},
   "outputs": [],
   "source": [
    "sharks_ivestment_equity_details=['Namita Investment Amount','Namita Investment Equity',  \n",
    "                                 'Vineeta Investment Amount', 'Vineeta Investment Equity', \n",
    "                                 'Anupam Investment Amount','Anupam Investment Equity',  \n",
    "                                 'Aman Investment Amount', 'Aman Investment Equity',  \n",
    "                                 'Peyush Investment Amount', 'Peyush Investment Equity', \n",
    "                                 'Ritesh Investment Amount', 'Ritesh Investment Equity',  \n",
    "                                 'Amit Investment Amount', 'Amit Investment Equity',  \n",
    "                                 'Guest Investment Amount', 'Guest Investment Equity']"
   ]
  },
  {
   "cell_type": "code",
   "execution_count": 59,
   "id": "0d34cd59-642c-4090-a977-0693cefe5976",
   "metadata": {},
   "outputs": [],
   "source": [
    "guest_related=['All Guest Names']"
   ]
  },
  {
   "cell_type": "code",
   "execution_count": 62,
   "id": "de2e83b9-a7af-472d-958d-09392182de16",
   "metadata": {},
   "outputs": [],
   "source": [
    "removing_col=brand_renvue_details+pitchers_business_details+sharks_ivestment_equity_details+Debt_details \n",
    "filtered_df=df.drop(columns=removing_col)"
   ]
  },
  {
   "cell_type": "code",
   "execution_count": 63,
   "id": "a3d2b662-1d9b-449b-8506-65c022d55c9e",
   "metadata": {},
   "outputs": [
    {
     "data": {
      "text/plain": [
       "447"
      ]
     },
     "execution_count": 63,
     "metadata": {},
     "output_type": "execute_result"
    }
   ],
   "source": [
    "len(filtered_df)"
   ]
  },
  {
   "cell_type": "code",
   "execution_count": 64,
   "id": "4bbddef5-b11b-4bb2-84e5-9bf452c6e966",
   "metadata": {},
   "outputs": [
    {
     "data": {
      "text/plain": [
       "33"
      ]
     },
     "execution_count": 64,
     "metadata": {},
     "output_type": "execute_result"
    }
   ],
   "source": [
    "len(filtered_df.columns)"
   ]
  },
  {
   "cell_type": "code",
   "execution_count": 43,
   "id": "d5ac77f9-c02c-4404-971b-0f14b33e801c",
   "metadata": {},
   "outputs": [],
   "source": [
    "guest_list=['Ashneer','Azhar','Ghazal',\n",
    "            'Deepinder','Radhika','Vikas',\n",
    "            'Ronnie','Varun']"
   ]
  },
  {
   "cell_type": "code",
   "execution_count": 65,
   "id": "e4a40990-6b39-45c7-87d4-3fb49ba8c698",
   "metadata": {},
   "outputs": [],
   "source": [
    "j=0\n",
    "for i in guest_list:\n",
    "    new_col=guest_list[j]+'_present'\n",
    "    filtered_df[new_col]=filtered_df['All Guest Names'].apply(lambda x: 1 if pd.notna(x) and i in x else 0)\n",
    "    filtered_df[new_col] = filtered_df['All Guest Names'].apply(lambda x: 1 if pd.notna(x) and i in x else 0)\n",
    "    filtered_df['All Guest Names'] = filtered_df['All Guest Names'].apply(lambda x: x.replace(i, '').strip() if pd.notna(x) else x)\n",
    "    filtered_df['All Guest Names'] = filtered_df['All Guest Names'].apply(lambda x: x.replace(i, '').strip() if pd.notna(x) else x)\n",
    "    j+=1"
   ]
  },
  {
   "cell_type": "code",
   "execution_count": 45,
   "id": "321392d6-15ba-49cc-b522-e449e06ef581",
   "metadata": {},
   "outputs": [
    {
     "data": {
      "text/plain": [
       "42"
      ]
     },
     "execution_count": 45,
     "metadata": {},
     "output_type": "execute_result"
    }
   ],
   "source": [
    "len(filtered_df.columns)"
   ]
  },
  {
   "cell_type": "code",
   "execution_count": 66,
   "id": "02d6dbe5-e3a9-4b27-8642-43390b6cd3ad",
   "metadata": {},
   "outputs": [],
   "source": [
    "df['Namita_deal'] = df['Namita Investment Amount'].map(lambda x: 1 if isinstance(x, (int, float)) and not pd.isna(x) else 0)\n",
    "df['Vineeta_deal'] = df['Vineeta Investment Amount'].map(lambda x: 1 if isinstance(x, (int, float)) and not pd.isna(x) else 0)\n",
    "df['Anupam_deal'] = df['Anupam Investment Amount'].map(lambda x: 1 if isinstance(x, (int, float)) and not pd.isna(x) else 0)\n",
    "df['Aman_deal'] = df['Aman Investment Amount'].map(lambda x: 1 if isinstance(x, (int, float)) and not pd.isna(x) else 0)\n",
    "df['peyush_deal'] = df['Peyush Investment Amount'].map(lambda x: 1 if isinstance(x, (int, float)) and not pd.isna(x) else 0)\n",
    "df['Ritesh_deal'] = df['Ritesh Investment Amount'].map(lambda x: 1 if isinstance(x, (int, float)) and not pd.isna(x) else 0)\n",
    "df['Amit_deal'] = df['Amit Investment Amount'].map(lambda x: 1 if isinstance(x, (int, float)) and not pd.isna(x) else 0)"
   ]
  },
  {
   "cell_type": "code",
   "execution_count": 67,
   "id": "47270b9c-418e-4052-9d76-e73ad8492d49",
   "metadata": {},
   "outputs": [],
   "source": [
    "k=0\n",
    "for i in guest_list:\n",
    "    new_col=guest_list_short_cut[k]+'_deal'\n",
    "    filtered_df[new_col]=filtered_df['Invested Guest Name'].apply(lambda x: 1 if pd.notna(x) and i in x else 0)\n",
    "    filtered_df[new_col] = filtered_df['Invested Guest Name'].apply(lambda x: 1 if pd.notna(x) and i in x else 0)\n",
    "    filtered_df['Invested Guest Name'] = filtered_df['Invested Guest Name'].apply(lambda x: x.replace(i, '').strip() if pd.notna(x) else x)\n",
    "    filtered_df['Invested Guest Name'] = filtered_df['Invested Guest Name'].apply(lambda x: x.replace(i, '').strip() if pd.notna(x) else x)\n",
    "    k+=1"
   ]
  },
  {
   "cell_type": "code",
   "execution_count": 75,
   "id": "e8a9dcc8-09f8-4e3e-9f79-6174e26909dc",
   "metadata": {},
   "outputs": [],
   "source": [
    "filtered_df.drop(columns=['Invested Guest Name','All Guest Names'],inplace=True)"
   ]
  },
  {
   "cell_type": "code",
   "execution_count": 84,
   "id": "67605c60-c6e7-4d61-81e3-a98618b96416",
   "metadata": {},
   "outputs": [],
   "source": [
    "filtered_df['deal_amount_per_shark']=filtered_df['Total Deal Amount']/filtered_df['Number of Sharks in Deal']\n",
    "filtered_df['equity_per_shark']=filtered_df['Total Deal Equity']/filtered_df['Number of Sharks in Deal']"
   ]
  },
  {
   "cell_type": "code",
   "execution_count": 70,
   "id": "4fa67c2c-1292-4132-b1b7-57f1080ce3c6",
   "metadata": {},
   "outputs": [],
   "source": [
    "df['Pitchers State']=df['Pitchers State'].fillna(df['Pitchers State'].mode()[0])"
   ]
  },
  {
   "cell_type": "code",
   "execution_count": 86,
   "id": "4fcdd90d-29d8-40b3-86e6-910403f50d00",
   "metadata": {},
   "outputs": [
    {
     "name": "stdout",
     "output_type": "stream",
     "text": [
      "<class 'pandas.core.frame.DataFrame'>\n",
      "Index: 447 entries, 0 to 477\n",
      "Data columns (total 49 columns):\n",
      " #   Column                    Non-Null Count  Dtype  \n",
      "---  ------                    --------------  -----  \n",
      " 0   Season Number             447 non-null    int64  \n",
      " 1   Startup Name              447 non-null    object \n",
      " 2   Episode Number            447 non-null    int64  \n",
      " 3   Pitch Number              447 non-null    int64  \n",
      " 4   Season Start              447 non-null    object \n",
      " 5   Season End                447 non-null    object \n",
      " 6   Original Air Date         447 non-null    object \n",
      " 7   Episode Title             447 non-null    object \n",
      " 8   Anchor                    447 non-null    object \n",
      " 9   Industry                  447 non-null    object \n",
      " 10  Business Description      447 non-null    object \n",
      " 11  Number of Presenters      447 non-null    int64  \n",
      " 12  Pitchers Average Age      447 non-null    object \n",
      " 13  Pitchers State            443 non-null    object \n",
      " 14  Original Ask Amount       447 non-null    float64\n",
      " 15  Original Offered Equity   447 non-null    float64\n",
      " 16  Valuation Requested       447 non-null    float64\n",
      " 17  Received Offer            447 non-null    int64  \n",
      " 18  Accepted Offer            447 non-null    int32  \n",
      " 19  Total Deal Amount         447 non-null    float64\n",
      " 20  Total Deal Equity         447 non-null    float64\n",
      " 21  Deal Valuation            447 non-null    float64\n",
      " 22  Number of Sharks in Deal  447 non-null    int64  \n",
      " 23  Namita Present            447 non-null    int32  \n",
      " 24  Vineeta Present           447 non-null    int32  \n",
      " 25  Anupam Present            447 non-null    int32  \n",
      " 26  Aman Present              447 non-null    int32  \n",
      " 27  Peyush Present            447 non-null    int32  \n",
      " 28  Ritesh Present            447 non-null    int32  \n",
      " 29  Amit Present              447 non-null    int32  \n",
      " 30  Guest Present             447 non-null    int32  \n",
      " 31  Ashneer_present           447 non-null    int64  \n",
      " 32  Azhar_present             447 non-null    int64  \n",
      " 33  Ghazal_present            447 non-null    int64  \n",
      " 34  Deepinder_present         447 non-null    int64  \n",
      " 35  Radhika_present           447 non-null    int64  \n",
      " 36  Vikas_present             447 non-null    int64  \n",
      " 37  Ronnie_present            447 non-null    int64  \n",
      " 38  Varun_present             447 non-null    int64  \n",
      " 39  Ashneer_deal              447 non-null    int64  \n",
      " 40  Azhar_deal                447 non-null    int64  \n",
      " 41  Ghazal_deal               447 non-null    int64  \n",
      " 42  Deepinder_deal            447 non-null    int64  \n",
      " 43  Radhika_deal              447 non-null    int64  \n",
      " 44  Vikas_deal                447 non-null    int64  \n",
      " 45  Ronnie_deal               447 non-null    int64  \n",
      " 46  Varun_deal                447 non-null    int64  \n",
      " 47  deal_amount_per_shark     447 non-null    float64\n",
      " 48  equity_per_shark          447 non-null    float64\n",
      "dtypes: float64(8), int32(9), int64(22), object(10)\n",
      "memory usage: 158.9+ KB\n"
     ]
    }
   ],
   "source": [
    "filtered_df.info()"
   ]
  },
  {
   "cell_type": "code",
   "execution_count": 72,
   "id": "fbdc9f5c-64e5-4df3-a7aa-ebce9e33de53",
   "metadata": {},
   "outputs": [],
   "source": [
    "filtered_df['Accepted Offer']=filtered_df['Accepted Offer'].fillna(0)\n",
    "filtered_df['Accepted Offer']=filtered_df['Accepted Offer'].astype(int)"
   ]
  },
  {
   "cell_type": "code",
   "execution_count": 79,
   "id": "870a8c79-7658-428f-993f-c7291e5535a1",
   "metadata": {},
   "outputs": [
    {
     "name": "stderr",
     "output_type": "stream",
     "text": [
      "C:\\Users\\nissi\\AppData\\Local\\Temp\\ipykernel_56336\\3578010399.py:2: UserWarning: Could not infer format, so each element will be parsed individually, falling back to `dateutil`. To ensure parsing is consistent and as-expected, please specify a format.\n",
      "  filtered_df[i] = pd.to_datetime(filtered_df[i], errors='coerce')\n",
      "C:\\Users\\nissi\\AppData\\Local\\Temp\\ipykernel_56336\\3578010399.py:2: UserWarning: Could not infer format, so each element will be parsed individually, falling back to `dateutil`. To ensure parsing is consistent and as-expected, please specify a format.\n",
      "  filtered_df[i] = pd.to_datetime(filtered_df[i], errors='coerce')\n",
      "C:\\Users\\nissi\\AppData\\Local\\Temp\\ipykernel_56336\\3578010399.py:2: UserWarning: Could not infer format, so each element will be parsed individually, falling back to `dateutil`. To ensure parsing is consistent and as-expected, please specify a format.\n",
      "  filtered_df[i] = pd.to_datetime(filtered_df[i], errors='coerce')\n"
     ]
    }
   ],
   "source": [
    "for i in time_details:\n",
    "    filtered_df[i] = pd.to_datetime(filtered_df[i], errors='coerce')\n",
    "    filtered_df[i]=filtered_df[i].dt.strftime('%d %b %Y')"
   ]
  },
  {
   "cell_type": "code",
   "execution_count": 77,
   "id": "0532619f-98ee-4247-b3f2-e50dbf844bf3",
   "metadata": {},
   "outputs": [],
   "source": [
    "for i in sharks_presence:\n",
    "    filtered_df[i]=filtered_df[i].fillna(0)\n",
    "    filtered_df[i]=filtered_df[i].astype(int)"
   ]
  },
  {
   "cell_type": "code",
   "execution_count": 85,
   "id": "904cb465-3ac5-4212-b4dd-4b3a1863b0fb",
   "metadata": {},
   "outputs": [],
   "source": [
    "filtered_df['Number of Sharks in Deal']=filtered_df['Number of Sharks in Deal'].fillna(0)\n",
    "filtered_df['Number of Sharks in Deal']=filtered_df['Number of Sharks in Deal'].astype('int64')\n",
    "filtered_df['Total Deal Amount']=filtered_df['Total Deal Amount'].fillna(0)\n",
    "filtered_df['Total Deal Equity']=filtered_df['Total Deal Equity'].fillna(0)\n",
    "filtered_df['Deal Valuation']=filtered_df['Deal Valuation'].fillna(0)\n",
    "filtered_df['deal_amount_per_shark']=filtered_df['deal_amount_per_shark'].fillna(0)\n",
    "filtered_df['equity_per_shark']=filtered_df['equity_per_shark'].fillna(0)"
   ]
  },
  {
   "cell_type": "code",
   "execution_count": 87,
   "id": "7d6a7d41-fa19-413a-b994-ce19e694e455",
   "metadata": {},
   "outputs": [],
   "source": [
    "filtered_df.to_csv(\"filtered_df.csv\")"
   ]
  }
 ],
 "metadata": {
  "kernelspec": {
   "display_name": "Python 3 (ipykernel)",
   "language": "python",
   "name": "python3"
  },
  "language_info": {
   "codemirror_mode": {
    "name": "ipython",
    "version": 3
   },
   "file_extension": ".py",
   "mimetype": "text/x-python",
   "name": "python",
   "nbconvert_exporter": "python",
   "pygments_lexer": "ipython3",
   "version": "3.12.4"
  }
 },
 "nbformat": 4,
 "nbformat_minor": 5
}
