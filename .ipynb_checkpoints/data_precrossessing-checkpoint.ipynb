{
 "cells": [
  {
   "cell_type": "code",
   "execution_count": 1,
   "id": "7174257d-10e9-4df1-9a5e-f3ecfa2a7e27",
   "metadata": {},
   "outputs": [],
   "source": [
    "import pandas as pd"
   ]
  },
  {
   "cell_type": "code",
   "execution_count": 2,
   "id": "6f3c6ad5-448a-4ce2-94fc-cae7ebc56006",
   "metadata": {},
   "outputs": [],
   "source": [
    "df=pd.read_csv(\"Shark Tank India.csv\")"
   ]
  },
  {
   "cell_type": "code",
   "execution_count": 76,
   "id": "049b3c68-3496-423f-8ea8-61dfc0f7e30c",
   "metadata": {},
   "outputs": [
    {
     "data": {
      "text/plain": [
       "Index(['Season Number', 'Startup Name', 'Episode Number', 'Pitch Number',\n",
       "       'Season Start', 'Season End', 'Original Air Date', 'Episode Title',\n",
       "       'Anchor', 'Industry', 'Business Description', 'Company Website',\n",
       "       'Started in', 'Number of Presenters', 'Male Presenters',\n",
       "       'Female Presenters', 'Transgender Presenters', 'Couple Presenters',\n",
       "       'Pitchers Average Age', 'Pitchers City', 'Pitchers State',\n",
       "       'Yearly Revenue', 'Monthly Sales', 'Gross Margin', 'Net Margin',\n",
       "       'EBITDA', 'Cash Burn', 'SKUs', 'Has Patents', 'Bootstrapped',\n",
       "       'Part of Match off', 'Original Ask Amount', 'Original Offered Equity',\n",
       "       'Valuation Requested', 'Received Offer', 'Accepted Offer',\n",
       "       'Total Deal Amount', 'Total Deal Equity', 'Total Deal Debt',\n",
       "       'Debt Interest', 'Deal Valuation', 'Number of Sharks in Deal',\n",
       "       'Deal Has Conditions', 'Royalty Percentage', 'Royalty Recouped Amount',\n",
       "       'Advisory Shares Equity', 'Namita Investment Amount',\n",
       "       'Namita Investment Equity', 'Namita Debt Amount',\n",
       "       'Vineeta Investment Amount', 'Vineeta Investment Equity',\n",
       "       'Vineeta Debt Amount', 'Anupam Investment Amount',\n",
       "       'Anupam Investment Equity', 'Anupam Debt Amount',\n",
       "       'Aman Investment Amount', 'Aman Investment Equity', 'Aman Debt Amount',\n",
       "       'Peyush Investment Amount', 'Peyush Investment Equity',\n",
       "       'Peyush Debt Amount', 'Ritesh Investment Amount',\n",
       "       'Ritesh Investment Equity', 'Ritesh Debt Amount',\n",
       "       'Amit Investment Amount', 'Amit Investment Equity', 'Amit Debt Amount',\n",
       "       'Guest Investment Amount', 'Guest Investment Equity',\n",
       "       'Guest Debt Amount', 'Invested Guest Name', 'All Guest Names',\n",
       "       'Namita Present', 'Vineeta Present', 'Anupam Present', 'Aman Present',\n",
       "       'Peyush Present', 'Ritesh Present', 'Amit Present', 'Guest Present'],\n",
       "      dtype='object')"
      ]
     },
     "execution_count": 76,
     "metadata": {},
     "output_type": "execute_result"
    }
   ],
   "source": [
    "df.columns"
   ]
  },
  {
   "cell_type": "code",
   "execution_count": 88,
   "id": "1d1ef085-cf23-415e-86e3-73ee0d37e5f2",
   "metadata": {},
   "outputs": [],
   "source": [
    "unwanted_col=['Male Presenters','Female Presenters','Transgender Presenters','Couple Presenters',\n",
    "     'Net Margin','EBITDA','SKUs','Cash Burn','Has Patents','Part of Match off',\n",
    "     'Total Deal Debt','Debt Interest','Royalty Percentage','Royalty Recouped Amount',\n",
    "     'Gross Margin','Advisory Shares Equity','Pitchers City','Vineeta Debt Amount',\n",
    "     'Anupam Debt Amount','Peyush Debt Amount','Amit Debt Amount','Ritesh Debt Amount',\n",
    "     'Guest Debt Amount','Deal Has Conditions','Aman Debt Amount']"
   ]
  },
  {
   "cell_type": "code",
   "execution_count": 78,
   "id": "742fd9f4-618e-4345-80fd-b0ea3559b015",
   "metadata": {},
   "outputs": [],
   "source": [
    "general_info=['Season Number', 'Startup Name', 'Episode Number', 'Pitch Number',\n",
    "                'Original Ask Amount', 'Original Offered Equity','Valuation Requested',\n",
    "                'Received Offer', 'Accepted Offer','Total Deal Amount', 'Total Deal Equity', \n",
    "                'Number of Sharks in Deal',]"
   ]
  },
  {
   "cell_type": "code",
   "execution_count": 79,
   "id": "7b9eb752-c661-4d42-917c-683b418d7a25",
   "metadata": {},
   "outputs": [],
   "source": [
    "company_data=['Industry', 'Business Description', 'Company Website',\n",
    "       'Started in', 'Number of Presenters', 'Male Presenters',\n",
    "       'Female Presenters', 'Transgender Presenters', 'Couple Presenters',\n",
    "       'Pitchers Average Age', 'Pitchers City', 'Pitchers State',\n",
    "       'Yearly Revenue', 'Monthly Sales', 'Gross Margin', 'Net Margin',\n",
    "       'EBITDA', 'Cash Burn', 'SKUs', 'Has Patents', 'Bootstrapped',\n",
    "       'Part of Match off']"
   ]
  },
  {
   "cell_type": "code",
   "execution_count": 80,
   "id": "cf920ab1-ecad-432c-8c60-5bbbc0d56728",
   "metadata": {},
   "outputs": [],
   "source": []
  },
  {
   "cell_type": "code",
   "execution_count": 82,
   "id": "00e78d2a-3db8-4130-9fc1-2f02e9cb6127",
   "metadata": {},
   "outputs": [],
   "source": [
    "sharks_presence=['All Guest Names',\n",
    "       'Namita Present', 'Vineeta Present', 'Anupam Present', 'Aman Present',\n",
    "       'Peyush Present', 'Ritesh Present', 'Amit Present', 'Guest Present']"
   ]
  },
  {
   "cell_type": "code",
   "execution_count": 21,
   "id": "60edd819-875e-4f55-83de-859c7766bf71",
   "metadata": {},
   "outputs": [],
   "source": [
    "df = df[df['Episode Title'] != 'Unseen']\n"
   ]
  },
  {
   "cell_type": "code",
   "execution_count": 116,
   "id": "108c683b-f0fd-4af2-9c15-139eb438010b",
   "metadata": {},
   "outputs": [],
   "source": [
    "df = df.drop(columns=unwanted_col)"
   ]
  },
  {
   "cell_type": "code",
   "execution_count": 104,
   "id": "645254f8-cd35-4220-9e5f-1c0bf025e003",
   "metadata": {},
   "outputs": [
    {
     "data": {
      "text/plain": [
       "Index(['Season Number', 'Startup Name', 'Episode Number', 'Pitch Number',\n",
       "       'Season Start', 'Season End', 'Original Air Date', 'Episode Title',\n",
       "       'Anchor', 'Industry', 'Business Description', 'Company Website',\n",
       "       'Started in', 'Number of Presenters', 'Pitchers Average Age',\n",
       "       'Pitchers State', 'Yearly Revenue', 'Monthly Sales', 'Bootstrapped',\n",
       "       'Original Ask Amount', 'Original Offered Equity', 'Valuation Requested',\n",
       "       'Received Offer', 'Accepted Offer', 'Total Deal Amount',\n",
       "       'Total Deal Equity', 'Deal Valuation', 'Number of Sharks in Deal',\n",
       "       'Namita Investment Amount', 'Namita Investment Equity',\n",
       "       'Namita Debt Amount', 'Vineeta Investment Amount',\n",
       "       'Vineeta Investment Equity', 'Anupam Investment Amount',\n",
       "       'Anupam Investment Equity', 'Aman Investment Amount',\n",
       "       'Aman Investment Equity', 'Peyush Investment Amount',\n",
       "       'Peyush Investment Equity', 'Ritesh Investment Amount',\n",
       "       'Ritesh Investment Equity', 'Amit Investment Amount',\n",
       "       'Amit Investment Equity', 'Guest Investment Amount',\n",
       "       'Guest Investment Equity', 'Invested Guest Name', 'All Guest Names',\n",
       "       'Namita Present', 'Vineeta Present', 'Anupam Present', 'Aman Present',\n",
       "       'Peyush Present', 'Ritesh Present', 'Amit Present', 'Guest Present',\n",
       "       'Boot Strapped'],\n",
       "      dtype='object')"
      ]
     },
     "execution_count": 104,
     "metadata": {},
     "output_type": "execute_result"
    }
   ],
   "source": [
    "df.columns"
   ]
  },
  {
   "cell_type": "code",
   "execution_count": 93,
   "id": "70e318f8-5aca-4893-9409-c532a282db62",
   "metadata": {},
   "outputs": [],
   "source": [
    "sharks_details=['Season Number','Episode Number', 'Pitch Number',\n",
    "                'Valuation Requested', 'Received Offer', 'Accepted Offer',\n",
    "       'Total Deal Amount', 'Total Deal Equity', 'Deal Valuation',\n",
    "       'Number of Sharks in Deal','Namita Investment Amount',\n",
    "       'Namita Investment Equity', 'Namita Debt Amount',\n",
    "       'Vineeta Investment Amount', 'Vineeta Investment Equity',\n",
    "       'Anupam Investment Amount', 'Anupam Investment Equity',\n",
    "       'Aman Investment Amount', 'Aman Investment Equity',\n",
    "       'Peyush Investment Amount', 'Peyush Investment Equity',\n",
    "       'Ritesh Investment Amount', 'Ritesh Investment Equity',\n",
    "       'Amit Investment Amount', 'Amit Investment Equity',\n",
    "       'Guest Investment Amount', 'Guest Investment Equity',\n",
    "       'Invested Guest Name', 'All Guest Names', 'Namita Present',\n",
    "       'Vineeta Present', 'Anupam Present', 'Aman Present', 'Peyush Present',\n",
    "       'Ritesh Present', 'Amit Present', 'Guest Present']"
   ]
  },
  {
   "cell_type": "code",
   "execution_count": 3,
   "id": "1d40010d-3f1f-4abe-82ab-9e1eb4db25cb",
   "metadata": {},
   "outputs": [],
   "source": [
    "df['deal_amount_per_shark']=df['Total Deal Amount']/df['Number of Sharks in Deal']"
   ]
  },
  {
   "cell_type": "code",
   "execution_count": 4,
   "id": "c204641e-d2ad-477e-bae7-f481b97c7da2",
   "metadata": {},
   "outputs": [],
   "source": [
    "df['equity_per_shark']=df['Total Deal Equity']/df['Number of Sharks in Deal']\n"
   ]
  },
  {
   "cell_type": "code",
   "execution_count": 5,
   "id": "ea38aca3-6615-48c2-9fde-c28ec2824120",
   "metadata": {},
   "outputs": [],
   "source": [
    "df['Pitchers State']=df['Pitchers State'].fillna(df['Pitchers State'].mode()[0])"
   ]
  },
  {
   "cell_type": "code",
   "execution_count": 6,
   "id": "ffc59b7f-beb9-483b-a597-1a7d4353d6ba",
   "metadata": {},
   "outputs": [],
   "source": [
    "df['Boot Strapped']=df['Bootstrapped'].map(lambda x: 1 if x in ['yes', 'funded'] else 0)"
   ]
  },
  {
   "cell_type": "code",
   "execution_count": 7,
   "id": "395734ff-1d01-46d0-ab97-04fe319697bc",
   "metadata": {},
   "outputs": [
    {
     "data": {
      "text/plain": [
       "Boot Strapped\n",
       "0    430\n",
       "1     48\n",
       "Name: count, dtype: int64"
      ]
     },
     "execution_count": 7,
     "metadata": {},
     "output_type": "execute_result"
    }
   ],
   "source": [
    "df['Boot Strapped'].value_counts()"
   ]
  },
  {
   "cell_type": "code",
   "execution_count": 122,
   "id": "db0ca7ed-03e3-4b84-935d-3a7611afb67c",
   "metadata": {},
   "outputs": [
    {
     "name": "stdout",
     "output_type": "stream",
     "text": [
      "<class 'pandas.core.frame.DataFrame'>\n",
      "Index: 447 entries, 0 to 477\n",
      "Data columns (total 59 columns):\n",
      " #   Column                     Non-Null Count  Dtype  \n",
      "---  ------                     --------------  -----  \n",
      " 0   Season Number              447 non-null    int64  \n",
      " 1   Startup Name               447 non-null    object \n",
      " 2   Episode Number             447 non-null    int64  \n",
      " 3   Pitch Number               447 non-null    int64  \n",
      " 4   Season Start               447 non-null    object \n",
      " 5   Season End                 447 non-null    object \n",
      " 6   Original Air Date          447 non-null    object \n",
      " 7   Episode Title              447 non-null    object \n",
      " 8   Anchor                     447 non-null    object \n",
      " 9   Industry                   447 non-null    object \n",
      " 10  Business Description       447 non-null    object \n",
      " 11  Company Website            437 non-null    object \n",
      " 12  Started in                 325 non-null    float64\n",
      " 13  Number of Presenters       447 non-null    int64  \n",
      " 14  Pitchers Average Age       447 non-null    object \n",
      " 15  Pitchers State             447 non-null    object \n",
      " 16  Yearly Revenue             235 non-null    float64\n",
      " 17  Monthly Sales              215 non-null    float64\n",
      " 18  Bootstrapped               48 non-null     object \n",
      " 19  Original Ask Amount        447 non-null    float64\n",
      " 20  Original Offered Equity    447 non-null    float64\n",
      " 21  Valuation Requested        447 non-null    float64\n",
      " 22  Received Offer             447 non-null    int64  \n",
      " 23  Accepted Offer             314 non-null    float64\n",
      " 24  Total Deal Amount          267 non-null    float64\n",
      " 25  Total Deal Equity          267 non-null    float64\n",
      " 26  Deal Valuation             266 non-null    float64\n",
      " 27  Number of Sharks in Deal   267 non-null    float64\n",
      " 28  Namita Investment Amount   89 non-null     float64\n",
      " 29  Namita Investment Equity   89 non-null     float64\n",
      " 30  Namita Debt Amount         17 non-null     float64\n",
      " 31  Vineeta Investment Amount  68 non-null     float64\n",
      " 32  Vineeta Investment Equity  68 non-null     float64\n",
      " 33  Anupam Investment Amount   75 non-null     float64\n",
      " 34  Anupam Investment Equity   75 non-null     float64\n",
      " 35  Aman Investment Amount     109 non-null    float64\n",
      " 36  Aman Investment Equity     109 non-null    float64\n",
      " 37  Peyush Investment Amount   88 non-null     float64\n",
      " 38  Peyush Investment Equity   88 non-null     float64\n",
      " 39  Ritesh Investment Amount   26 non-null     float64\n",
      " 40  Ritesh Investment Equity   26 non-null     float64\n",
      " 41  Amit Investment Amount     35 non-null     float64\n",
      " 42  Amit Investment Equity     35 non-null     float64\n",
      " 43  Guest Investment Amount    44 non-null     float64\n",
      " 44  Guest Investment Equity    44 non-null     float64\n",
      " 45  Invested Guest Name        44 non-null     object \n",
      " 46  All Guest Names            189 non-null    object \n",
      " 47  Namita Present             388 non-null    float64\n",
      " 48  Vineeta Present            317 non-null    float64\n",
      " 49  Anupam Present             424 non-null    float64\n",
      " 50  Aman Present               419 non-null    float64\n",
      " 51  Peyush Present             306 non-null    float64\n",
      " 52  Ritesh Present             60 non-null     float64\n",
      " 53  Amit Present               136 non-null    float64\n",
      " 54  Guest Present              189 non-null    float64\n",
      " 55  deal_amount_per_shark      267 non-null    float64\n",
      " 56  equity_per_shark           267 non-null    float64\n",
      " 57  Boot Strapped              447 non-null    int64  \n",
      " 58  Aman_deal                  447 non-null    int64  \n",
      "dtypes: float64(38), int64(7), object(14)\n",
      "memory usage: 209.5+ KB\n"
     ]
    }
   ],
   "source": [
    "df.info()"
   ]
  },
  {
   "cell_type": "code",
   "execution_count": 66,
   "id": "3f730492-eb39-4339-83a3-5cf570fbd632",
   "metadata": {},
   "outputs": [],
   "source": [
    "df.to_csv('sharks.csv')"
   ]
  },
  {
   "cell_type": "code",
   "execution_count": 8,
   "id": "1de563c9-a54e-4b8b-a8fd-5b7d28fb8176",
   "metadata": {},
   "outputs": [],
   "source": [
    "df['Aman_deal'] = df['Aman Investment Amount'].map(lambda x: 1 if isinstance(x, (int, float)) and not pd.isna(x) else 0)"
   ]
  },
  {
   "cell_type": "code",
   "execution_count": 9,
   "id": "06daf479-8a1b-492b-8fd7-1e53df6ca221",
   "metadata": {},
   "outputs": [],
   "source": [
    "df['Namita_deal'] = df['Namita Investment Amount'].map(lambda x: 1 if isinstance(x, (int, float)) and not pd.isna(x) else 0)"
   ]
  },
  {
   "cell_type": "code",
   "execution_count": 10,
   "id": "039ff9ee-32a3-4d06-87d0-bcf068984872",
   "metadata": {},
   "outputs": [],
   "source": [
    "df['Vineeta_deal'] = df['Vineeta Investment Amount'].map(lambda x: 1 if isinstance(x, (int, float)) and not pd.isna(x) else 0)"
   ]
  },
  {
   "cell_type": "code",
   "execution_count": 11,
   "id": "4d58a71c-d58d-4416-b8ea-e96c6216b3b7",
   "metadata": {},
   "outputs": [],
   "source": [
    "df['Anupam_deal'] = df['Anupam Investment Amount'].map(lambda x: 1 if isinstance(x, (int, float)) and not pd.isna(x) else 0)"
   ]
  },
  {
   "cell_type": "code",
   "execution_count": 12,
   "id": "72921f04-0b01-465d-aae0-6a795c2eef4e",
   "metadata": {},
   "outputs": [],
   "source": [
    "df['peyush_deal'] = df['Peyush Investment Amount'].map(lambda x: 1 if isinstance(x, (int, float)) and not pd.isna(x) else 0)"
   ]
  },
  {
   "cell_type": "code",
   "execution_count": 13,
   "id": "e166aba8-b2a1-4192-a04b-89efda48287f",
   "metadata": {},
   "outputs": [],
   "source": [
    "df['Amit_deal'] = df['Amit Investment Amount'].map(lambda x: 1 if isinstance(x, (int, float)) and not pd.isna(x) else 0)"
   ]
  },
  {
   "cell_type": "code",
   "execution_count": 125,
   "id": "1c8b22c8-c004-465c-be83-5f2fd0ca0f11",
   "metadata": {},
   "outputs": [
    {
     "data": {
      "text/plain": [
       "Aman_deal\n",
       "0    369\n",
       "1    109\n",
       "Name: count, dtype: int64"
      ]
     },
     "execution_count": 125,
     "metadata": {},
     "output_type": "execute_result"
    }
   ],
   "source": [
    "df['Aman_deal'].value_counts()"
   ]
  },
  {
   "cell_type": "code",
   "execution_count": 148,
   "id": "d8b1d27a-26b7-41ce-b2a9-0bdafd72628e",
   "metadata": {},
   "outputs": [
    {
     "data": {
      "text/plain": [
       "Guest Present\n",
       "1.0    175\n",
       "2.0     16\n",
       "Name: count, dtype: int64"
      ]
     },
     "execution_count": 148,
     "metadata": {},
     "output_type": "execute_result"
    }
   ],
   "source": [
    "df['Guest Present'].value_counts()"
   ]
  },
  {
   "cell_type": "code",
   "execution_count": 14,
   "id": "db59d6e1-4b56-439b-863f-2127a390f48d",
   "metadata": {},
   "outputs": [
    {
     "data": {
      "text/plain": [
       "26"
      ]
     },
     "execution_count": 14,
     "metadata": {},
     "output_type": "execute_result"
    }
   ],
   "source": [
    "df['Ritesh Investment Amount'].count()"
   ]
  },
  {
   "cell_type": "code",
   "execution_count": 15,
   "id": "32a1850d-bb11-42d8-ab98-8c4e7eba97cc",
   "metadata": {},
   "outputs": [],
   "source": [
    "df[['Guest1_present', 'Guest2_present']] = df['All Guest Names'].str.split(',', expand=True)"
   ]
  },
  {
   "cell_type": "code",
   "execution_count": 16,
   "id": "7b676a63-5aa6-46a0-a30c-74be08eb36a2",
   "metadata": {},
   "outputs": [
    {
     "ename": "SyntaxError",
     "evalue": "invalid syntax (1347504506.py, line 1)",
     "output_type": "error",
     "traceback": [
      "\u001b[1;36m  Cell \u001b[1;32mIn[16], line 1\u001b[1;36m\u001b[0m\n\u001b[1;33m    df['Ashneer Present']=\u001b[0m\n\u001b[1;37m                          ^\u001b[0m\n\u001b[1;31mSyntaxError\u001b[0m\u001b[1;31m:\u001b[0m invalid syntax\n"
     ]
    }
   ],
   "source": [
    "df['Ashneer Present']="
   ]
  },
  {
   "cell_type": "code",
   "execution_count": 17,
   "id": "85b0f920-6b82-42bc-810e-aa454b41ad04",
   "metadata": {},
   "outputs": [],
   "source": [
    "df['Ashneer Present'] = df.apply(lambda row: 1 if 'Ashneer Grover' in [row['Guest1_present'], row['Guest2_present']] else 0, axis=1)"
   ]
  },
  {
   "cell_type": "code",
   "execution_count": 18,
   "id": "d30f4f82-c18e-4a8f-bfd5-202efe561b7f",
   "metadata": {},
   "outputs": [
    {
     "ename": "KeyError",
     "evalue": "'New_Col'",
     "output_type": "error",
     "traceback": [
      "\u001b[1;31m---------------------------------------------------------------------------\u001b[0m",
      "\u001b[1;31mKeyError\u001b[0m                                  Traceback (most recent call last)",
      "File \u001b[1;32mC:\\ProgramData\\anaconda3\\Lib\\site-packages\\pandas\\core\\indexes\\base.py:3805\u001b[0m, in \u001b[0;36mIndex.get_loc\u001b[1;34m(self, key)\u001b[0m\n\u001b[0;32m   3804\u001b[0m \u001b[38;5;28;01mtry\u001b[39;00m:\n\u001b[1;32m-> 3805\u001b[0m     \u001b[38;5;28;01mreturn\u001b[39;00m \u001b[38;5;28mself\u001b[39m\u001b[38;5;241m.\u001b[39m_engine\u001b[38;5;241m.\u001b[39mget_loc(casted_key)\n\u001b[0;32m   3806\u001b[0m \u001b[38;5;28;01mexcept\u001b[39;00m \u001b[38;5;167;01mKeyError\u001b[39;00m \u001b[38;5;28;01mas\u001b[39;00m err:\n",
      "File \u001b[1;32mindex.pyx:167\u001b[0m, in \u001b[0;36mpandas._libs.index.IndexEngine.get_loc\u001b[1;34m()\u001b[0m\n",
      "File \u001b[1;32mindex.pyx:196\u001b[0m, in \u001b[0;36mpandas._libs.index.IndexEngine.get_loc\u001b[1;34m()\u001b[0m\n",
      "File \u001b[1;32mpandas\\\\_libs\\\\hashtable_class_helper.pxi:7081\u001b[0m, in \u001b[0;36mpandas._libs.hashtable.PyObjectHashTable.get_item\u001b[1;34m()\u001b[0m\n",
      "File \u001b[1;32mpandas\\\\_libs\\\\hashtable_class_helper.pxi:7089\u001b[0m, in \u001b[0;36mpandas._libs.hashtable.PyObjectHashTable.get_item\u001b[1;34m()\u001b[0m\n",
      "\u001b[1;31mKeyError\u001b[0m: 'New_Col'",
      "\nThe above exception was the direct cause of the following exception:\n",
      "\u001b[1;31mKeyError\u001b[0m                                  Traceback (most recent call last)",
      "Cell \u001b[1;32mIn[18], line 1\u001b[0m\n\u001b[1;32m----> 1\u001b[0m df[\u001b[38;5;124m'\u001b[39m\u001b[38;5;124mNew_Col\u001b[39m\u001b[38;5;124m'\u001b[39m]\u001b[38;5;241m.\u001b[39mvalue_counts()\n",
      "File \u001b[1;32mC:\\ProgramData\\anaconda3\\Lib\\site-packages\\pandas\\core\\frame.py:4102\u001b[0m, in \u001b[0;36mDataFrame.__getitem__\u001b[1;34m(self, key)\u001b[0m\n\u001b[0;32m   4100\u001b[0m \u001b[38;5;28;01mif\u001b[39;00m \u001b[38;5;28mself\u001b[39m\u001b[38;5;241m.\u001b[39mcolumns\u001b[38;5;241m.\u001b[39mnlevels \u001b[38;5;241m>\u001b[39m \u001b[38;5;241m1\u001b[39m:\n\u001b[0;32m   4101\u001b[0m     \u001b[38;5;28;01mreturn\u001b[39;00m \u001b[38;5;28mself\u001b[39m\u001b[38;5;241m.\u001b[39m_getitem_multilevel(key)\n\u001b[1;32m-> 4102\u001b[0m indexer \u001b[38;5;241m=\u001b[39m \u001b[38;5;28mself\u001b[39m\u001b[38;5;241m.\u001b[39mcolumns\u001b[38;5;241m.\u001b[39mget_loc(key)\n\u001b[0;32m   4103\u001b[0m \u001b[38;5;28;01mif\u001b[39;00m is_integer(indexer):\n\u001b[0;32m   4104\u001b[0m     indexer \u001b[38;5;241m=\u001b[39m [indexer]\n",
      "File \u001b[1;32mC:\\ProgramData\\anaconda3\\Lib\\site-packages\\pandas\\core\\indexes\\base.py:3812\u001b[0m, in \u001b[0;36mIndex.get_loc\u001b[1;34m(self, key)\u001b[0m\n\u001b[0;32m   3807\u001b[0m     \u001b[38;5;28;01mif\u001b[39;00m \u001b[38;5;28misinstance\u001b[39m(casted_key, \u001b[38;5;28mslice\u001b[39m) \u001b[38;5;129;01mor\u001b[39;00m (\n\u001b[0;32m   3808\u001b[0m         \u001b[38;5;28misinstance\u001b[39m(casted_key, abc\u001b[38;5;241m.\u001b[39mIterable)\n\u001b[0;32m   3809\u001b[0m         \u001b[38;5;129;01mand\u001b[39;00m \u001b[38;5;28many\u001b[39m(\u001b[38;5;28misinstance\u001b[39m(x, \u001b[38;5;28mslice\u001b[39m) \u001b[38;5;28;01mfor\u001b[39;00m x \u001b[38;5;129;01min\u001b[39;00m casted_key)\n\u001b[0;32m   3810\u001b[0m     ):\n\u001b[0;32m   3811\u001b[0m         \u001b[38;5;28;01mraise\u001b[39;00m InvalidIndexError(key)\n\u001b[1;32m-> 3812\u001b[0m     \u001b[38;5;28;01mraise\u001b[39;00m \u001b[38;5;167;01mKeyError\u001b[39;00m(key) \u001b[38;5;28;01mfrom\u001b[39;00m \u001b[38;5;21;01merr\u001b[39;00m\n\u001b[0;32m   3813\u001b[0m \u001b[38;5;28;01mexcept\u001b[39;00m \u001b[38;5;167;01mTypeError\u001b[39;00m:\n\u001b[0;32m   3814\u001b[0m     \u001b[38;5;66;03m# If we have a listlike key, _check_indexing_error will raise\u001b[39;00m\n\u001b[0;32m   3815\u001b[0m     \u001b[38;5;66;03m#  InvalidIndexError. Otherwise we fall through and re-raise\u001b[39;00m\n\u001b[0;32m   3816\u001b[0m     \u001b[38;5;66;03m#  the TypeError.\u001b[39;00m\n\u001b[0;32m   3817\u001b[0m     \u001b[38;5;28mself\u001b[39m\u001b[38;5;241m.\u001b[39m_check_indexing_error(key)\n",
      "\u001b[1;31mKeyError\u001b[0m: 'New_Col'"
     ]
    }
   ],
   "source": [
    "df['New_Col'].value_counts()\n"
   ]
  },
  {
   "cell_type": "code",
   "execution_count": 32,
   "id": "4369492a-983a-40d7-8a21-dd2a879669c8",
   "metadata": {},
   "outputs": [
    {
     "name": "stdout",
     "output_type": "stream",
     "text": [
      "<class 'pandas.core.frame.DataFrame'>\n",
      "Index: 447 entries, 0 to 477\n",
      "Data columns (total 92 columns):\n",
      " #   Column                     Non-Null Count  Dtype  \n",
      "---  ------                     --------------  -----  \n",
      " 0   Season Number              447 non-null    int64  \n",
      " 1   Startup Name               447 non-null    object \n",
      " 2   Episode Number             447 non-null    int64  \n",
      " 3   Pitch Number               447 non-null    int64  \n",
      " 4   Season Start               447 non-null    object \n",
      " 5   Season End                 447 non-null    object \n",
      " 6   Original Air Date          447 non-null    object \n",
      " 7   Episode Title              447 non-null    object \n",
      " 8   Anchor                     447 non-null    object \n",
      " 9   Industry                   447 non-null    object \n",
      " 10  Business Description       447 non-null    object \n",
      " 11  Company Website            437 non-null    object \n",
      " 12  Started in                 325 non-null    float64\n",
      " 13  Number of Presenters       447 non-null    int64  \n",
      " 14  Male Presenters            383 non-null    float64\n",
      " 15  Female Presenters          209 non-null    float64\n",
      " 16  Transgender Presenters     1 non-null      float64\n",
      " 17  Couple Presenters          447 non-null    int64  \n",
      " 18  Pitchers Average Age       447 non-null    object \n",
      " 19  Pitchers City              442 non-null    object \n",
      " 20  Pitchers State             447 non-null    object \n",
      " 21  Yearly Revenue             235 non-null    float64\n",
      " 22  Monthly Sales              215 non-null    float64\n",
      " 23  Gross Margin               126 non-null    float64\n",
      " 24  Net Margin                 73 non-null     float64\n",
      " 25  EBITDA                     23 non-null     float64\n",
      " 26  Cash Burn                  61 non-null     object \n",
      " 27  SKUs                       28 non-null     float64\n",
      " 28  Has Patents                43 non-null     object \n",
      " 29  Bootstrapped               48 non-null     object \n",
      " 30  Part of Match off          4 non-null      object \n",
      " 31  Original Ask Amount        447 non-null    float64\n",
      " 32  Original Offered Equity    447 non-null    float64\n",
      " 33  Valuation Requested        447 non-null    float64\n",
      " 34  Received Offer             447 non-null    int64  \n",
      " 35  Accepted Offer             314 non-null    float64\n",
      " 36  Total Deal Amount          267 non-null    float64\n",
      " 37  Total Deal Equity          267 non-null    float64\n",
      " 38  Total Deal Debt            62 non-null     float64\n",
      " 39  Debt Interest              45 non-null     float64\n",
      " 40  Deal Valuation             266 non-null    float64\n",
      " 41  Number of Sharks in Deal   267 non-null    float64\n",
      " 42  Deal Has Conditions        26 non-null     object \n",
      " 43  Royalty Percentage         18 non-null     float64\n",
      " 44  Royalty Recouped Amount    18 non-null     float64\n",
      " 45  Advisory Shares Equity     3 non-null      float64\n",
      " 46  Namita Investment Amount   89 non-null     float64\n",
      " 47  Namita Investment Equity   89 non-null     float64\n",
      " 48  Namita Debt Amount         17 non-null     float64\n",
      " 49  Vineeta Investment Amount  68 non-null     float64\n",
      " 50  Vineeta Investment Equity  68 non-null     float64\n",
      " 51  Vineeta Debt Amount        12 non-null     float64\n",
      " 52  Anupam Investment Amount   75 non-null     float64\n",
      " 53  Anupam Investment Equity   75 non-null     float64\n",
      " 54  Anupam Debt Amount         8 non-null      float64\n",
      " 55  Aman Investment Amount     109 non-null    float64\n",
      " 56  Aman Investment Equity     109 non-null    float64\n",
      " 57  Aman Debt Amount           18 non-null     float64\n",
      " 58  Peyush Investment Amount   88 non-null     float64\n",
      " 59  Peyush Investment Equity   88 non-null     float64\n",
      " 60  Peyush Debt Amount         12 non-null     float64\n",
      " 61  Ritesh Investment Amount   26 non-null     float64\n",
      " 62  Ritesh Investment Equity   26 non-null     float64\n",
      " 63  Ritesh Debt Amount         7 non-null      float64\n",
      " 64  Amit Investment Amount     35 non-null     float64\n",
      " 65  Amit Investment Equity     35 non-null     float64\n",
      " 66  Amit Debt Amount           7 non-null      float64\n",
      " 67  Guest Investment Amount    44 non-null     float64\n",
      " 68  Guest Investment Equity    44 non-null     float64\n",
      " 69  Guest Debt Amount          5 non-null      float64\n",
      " 70  Invested Guest Name        44 non-null     object \n",
      " 71  All Guest Names            189 non-null    object \n",
      " 72  Namita Present             388 non-null    float64\n",
      " 73  Vineeta Present            317 non-null    float64\n",
      " 74  Anupam Present             424 non-null    float64\n",
      " 75  Aman Present               419 non-null    float64\n",
      " 76  Peyush Present             306 non-null    float64\n",
      " 77  Ritesh Present             60 non-null     float64\n",
      " 78  Amit Present               136 non-null    float64\n",
      " 79  Guest Present              189 non-null    float64\n",
      " 80  deal_amount_per_shark      267 non-null    float64\n",
      " 81  equity_per_shark           267 non-null    float64\n",
      " 82  Boot Strapped              447 non-null    int64  \n",
      " 83  Aman_deal                  447 non-null    int64  \n",
      " 84  Namita_deal                447 non-null    int64  \n",
      " 85  Vineeta_deal               447 non-null    int64  \n",
      " 86  Anupam_deal                447 non-null    int64  \n",
      " 87  peyush_deal                447 non-null    int64  \n",
      " 88  Amit_deal                  447 non-null    int64  \n",
      " 89  Guest1_present             189 non-null    object \n",
      " 90  Guest2_present             16 non-null     object \n",
      " 91  Ashneer Present            447 non-null    int64  \n",
      "dtypes: float64(57), int64(14), object(21)\n",
      "memory usage: 324.8+ KB\n"
     ]
    }
   ],
   "source": [
    "df.info()"
   ]
  },
  {
   "cell_type": "code",
   "execution_count": 20,
   "id": "68a8d987-d423-43a9-a5bc-1ae1c538a2dd",
   "metadata": {},
   "outputs": [],
   "source": [
    "df.to_csv('example.csv')"
   ]
  },
  {
   "cell_type": "code",
   "execution_count": 30,
   "id": "2b347713-ca1d-4ffb-b06f-ec40bfd64829",
   "metadata": {},
   "outputs": [],
   "source": [
    "\n",
    "pitchers_business_details=['Business Description', 'Company Website','Started in ', 'Male Presenters',\n",
    "       'Female Presenters', 'Transgender Presenters', 'Couple Presenters',\n",
    "     'Pitchers City', 'Pitchers State',]\n",
    "brand_renvue_details=['Yearly Revenue', 'Monthly Sales', 'Gross Margin', 'Net Margin',\n",
    "       'EBITDA', 'Cash Burn', 'SKUs', 'Has Patents', 'Bootstrapped',\n",
    "       'Part of Match off']"
   ]
  },
  {
   "cell_type": "code",
   "execution_count": 23,
   "id": "964aebdc-c425-40b9-8a60-8f14661e7aaa",
   "metadata": {},
   "outputs": [
    {
     "data": {
      "text/plain": [
       "Index(['Season Number', 'Startup Name', 'Episode Number', 'Pitch Number',\n",
       "       'Season Start', 'Season End', 'Original Air Date', 'Episode Title',\n",
       "       'Anchor', 'Industry', 'Business Description', 'Company Website',\n",
       "       'Started in', 'Number of Presenters', 'Male Presenters',\n",
       "       'Female Presenters', 'Transgender Presenters', 'Couple Presenters',\n",
       "       'Pitchers Average Age', 'Pitchers City', 'Pitchers State',\n",
       "       'Yearly Revenue', 'Monthly Sales', 'Gross Margin', 'Net Margin',\n",
       "       'EBITDA', 'Cash Burn', 'SKUs', 'Has Patents', 'Bootstrapped',\n",
       "       'Part of Match off', 'Original Ask Amount', 'Original Offered Equity',\n",
       "       'Valuation Requested', 'Received Offer', 'Accepted Offer',\n",
       "       'Total Deal Amount', 'Total Deal Equity', 'Total Deal Debt',\n",
       "       'Debt Interest', 'Deal Valuation', 'Number of Sharks in Deal',\n",
       "       'Deal Has Conditions', 'Royalty Percentage', 'Royalty Recouped Amount',\n",
       "       'Advisory Shares Equity', 'Namita Investment Amount',\n",
       "       'Namita Investment Equity', 'Namita Debt Amount',\n",
       "       'Vineeta Investment Amount', 'Vineeta Investment Equity',\n",
       "       'Vineeta Debt Amount', 'Anupam Investment Amount',\n",
       "       'Anupam Investment Equity', 'Anupam Debt Amount',\n",
       "       'Aman Investment Amount', 'Aman Investment Equity', 'Aman Debt Amount',\n",
       "       'Peyush Investment Amount', 'Peyush Investment Equity',\n",
       "       'Peyush Debt Amount', 'Ritesh Investment Amount',\n",
       "       'Ritesh Investment Equity', 'Ritesh Debt Amount',\n",
       "       'Amit Investment Amount', 'Amit Investment Equity', 'Amit Debt Amount',\n",
       "       'Guest Investment Amount', 'Guest Investment Equity',\n",
       "       'Guest Debt Amount', 'Invested Guest Name', 'All Guest Names',\n",
       "       'Namita Present', 'Vineeta Present', 'Anupam Present', 'Aman Present',\n",
       "       'Peyush Present', 'Ritesh Present', 'Amit Present', 'Guest Present',\n",
       "       'deal_amount_per_shark', 'equity_per_shark', 'Boot Strapped',\n",
       "       'Aman_deal', 'Namita_deal', 'Vineeta_deal', 'Anupam_deal',\n",
       "       'peyush_deal', 'Amit_deal', 'Guest1_present', 'Guest2_present',\n",
       "       'Ashneer Present'],\n",
       "      dtype='object')"
      ]
     },
     "execution_count": 23,
     "metadata": {},
     "output_type": "execute_result"
    }
   ],
   "source": [
    "df.columns"
   ]
  },
  {
   "cell_type": "code",
   "execution_count": 25,
   "id": "d0bebac5-d21f-40a2-8b9a-438f8d98e01b",
   "metadata": {},
   "outputs": [],
   "source": [
    "Debt_details=['Total Deal Debt','Debt Interest','Namita Investment Amount', 'Vineeta Debt Amount','Anupam Debt Amount','Aman Debt Amount', 'Peyush Debt Amount',\n",
    "               'Ritesh Debt Amount', 'Amit Debt Amount','Guest Debt Amount']"
   ]
  },
  {
   "cell_type": "code",
   "execution_count": 24,
   "id": "3e050765-47a1-4579-a709-cc9243f27b46",
   "metadata": {},
   "outputs": [
    {
     "data": {
      "text/plain": [
       "Guest Debt Amount\n",
       "15.00    1\n",
       "99.00    1\n",
       "34.50    1\n",
       "12.50    1\n",
       "41.66    1\n",
       "Name: count, dtype: int64"
      ]
     },
     "execution_count": 24,
     "metadata": {},
     "output_type": "execute_result"
    }
   ],
   "source": [
    "df['Guest Debt Amount'].value_counts()"
   ]
  },
  {
   "cell_type": "code",
   "execution_count": 28,
   "id": "5322f053-0dc2-4310-8de2-b25876d60cc5",
   "metadata": {},
   "outputs": [],
   "source": [
    "sharks_ivestment_equity_details=['Namita Investment Amount','Namita Investment Equity',  \n",
    "                                 'Vineeta Investment Amount', 'Vineeta Investment Equity', \n",
    "                                 'Anupam Investment Amount','Anupam Investment Equity',  \n",
    "                                 'Aman Investment Amount', 'Aman Investment Equity',  \n",
    "                                 'Peyush Investment Amount', 'Peyush Investment Equity', \n",
    "                                 'Ritesh Investment Amount', 'Ritesh Investment Equity',  \n",
    "                                 'Amit Investment Amount', 'Amit Investment Equity',  \n",
    "                                 'Guest Investment Amount', 'Guest Investment Equity']"
   ]
  },
  {
   "cell_type": "code",
   "execution_count": 37,
   "id": "75e2c270-9d19-47d8-a1de-254218289c72",
   "metadata": {},
   "outputs": [],
   "source": [
    "for i in sharks_ivestment_equity_details:\n",
    "    df[i]=df[i].fillna(0)"
   ]
  },
  {
   "cell_type": "code",
   "execution_count": 31,
   "id": "dd980b81-27b5-4fc5-ad0f-7ee1760c91ac",
   "metadata": {},
   "outputs": [
    {
     "data": {
      "text/plain": [
       "Total Deal Debt\n",
       "50.0     13\n",
       "25.0     11\n",
       "40.0      7\n",
       "30.0      6\n",
       "20.0      5\n",
       "35.0      4\n",
       "80.0      2\n",
       "100.0     2\n",
       "60.0      2\n",
       "45.0      1\n",
       "125.0     1\n",
       "69.0      1\n",
       "65.0      1\n",
       "41.0      1\n",
       "70.0      1\n",
       "150.0     1\n",
       "22.0      1\n",
       "99.0      1\n",
       "75.0      1\n",
       "Name: count, dtype: int64"
      ]
     },
     "execution_count": 31,
     "metadata": {},
     "output_type": "execute_result"
    }
   ],
   "source": [
    "df['Total Deal Debt'].value_counts()"
   ]
  },
  {
   "cell_type": "code",
   "execution_count": 35,
   "id": "6316ff99-b71b-43ab-b76a-d479a6b02a50",
   "metadata": {},
   "outputs": [
    {
     "name": "stderr",
     "output_type": "stream",
     "text": [
      "C:\\Users\\nissi\\AppData\\Local\\Temp\\ipykernel_3792\\281196768.py:1: FutureWarning: Downcasting object dtype arrays on .fillna, .ffill, .bfill is deprecated and will change in a future version. Call result.infer_objects(copy=False) instead. To opt-in to the future behavior, set `pd.set_option('future.no_silent_downcasting', True)`\n",
      "  df['Accepted Offer']=df['Accepted Offer'].fillna(0)\n"
     ]
    }
   ],
   "source": [
    "df['Accepted Offer']=df['Accepted Offer'].fillna(0)"
   ]
  },
  {
   "cell_type": "code",
   "execution_count": 38,
   "id": "74acc807-0217-4389-9e39-ef70330a058c",
   "metadata": {},
   "outputs": [
    {
     "name": "stdout",
     "output_type": "stream",
     "text": [
      "<class 'pandas.core.frame.DataFrame'>\n",
      "Index: 447 entries, 0 to 477\n",
      "Data columns (total 92 columns):\n",
      " #   Column                     Non-Null Count  Dtype  \n",
      "---  ------                     --------------  -----  \n",
      " 0   Season Number              447 non-null    int64  \n",
      " 1   Startup Name               447 non-null    object \n",
      " 2   Episode Number             447 non-null    int64  \n",
      " 3   Pitch Number               447 non-null    int64  \n",
      " 4   Season Start               447 non-null    object \n",
      " 5   Season End                 447 non-null    object \n",
      " 6   Original Air Date          447 non-null    object \n",
      " 7   Episode Title              447 non-null    object \n",
      " 8   Anchor                     447 non-null    object \n",
      " 9   Industry                   447 non-null    object \n",
      " 10  Business Description       447 non-null    object \n",
      " 11  Company Website            437 non-null    object \n",
      " 12  Started in                 325 non-null    float64\n",
      " 13  Number of Presenters       447 non-null    int64  \n",
      " 14  Male Presenters            383 non-null    float64\n",
      " 15  Female Presenters          209 non-null    float64\n",
      " 16  Transgender Presenters     1 non-null      float64\n",
      " 17  Couple Presenters          447 non-null    int64  \n",
      " 18  Pitchers Average Age       447 non-null    object \n",
      " 19  Pitchers City              442 non-null    object \n",
      " 20  Pitchers State             447 non-null    object \n",
      " 21  Yearly Revenue             235 non-null    float64\n",
      " 22  Monthly Sales              215 non-null    float64\n",
      " 23  Gross Margin               126 non-null    float64\n",
      " 24  Net Margin                 73 non-null     float64\n",
      " 25  EBITDA                     23 non-null     float64\n",
      " 26  Cash Burn                  61 non-null     object \n",
      " 27  SKUs                       28 non-null     float64\n",
      " 28  Has Patents                43 non-null     object \n",
      " 29  Bootstrapped               48 non-null     object \n",
      " 30  Part of Match off          4 non-null      object \n",
      " 31  Original Ask Amount        447 non-null    float64\n",
      " 32  Original Offered Equity    447 non-null    float64\n",
      " 33  Valuation Requested        447 non-null    float64\n",
      " 34  Received Offer             447 non-null    int64  \n",
      " 35  Accepted Offer             447 non-null    int64  \n",
      " 36  Total Deal Amount          267 non-null    float64\n",
      " 37  Total Deal Equity          267 non-null    float64\n",
      " 38  Total Deal Debt            62 non-null     float64\n",
      " 39  Debt Interest              45 non-null     float64\n",
      " 40  Deal Valuation             266 non-null    float64\n",
      " 41  Number of Sharks in Deal   267 non-null    float64\n",
      " 42  Deal Has Conditions        26 non-null     object \n",
      " 43  Royalty Percentage         18 non-null     float64\n",
      " 44  Royalty Recouped Amount    18 non-null     float64\n",
      " 45  Advisory Shares Equity     3 non-null      float64\n",
      " 46  Namita Investment Amount   447 non-null    float64\n",
      " 47  Namita Investment Equity   447 non-null    float64\n",
      " 48  Namita Debt Amount         17 non-null     float64\n",
      " 49  Vineeta Investment Amount  447 non-null    float64\n",
      " 50  Vineeta Investment Equity  447 non-null    float64\n",
      " 51  Vineeta Debt Amount        12 non-null     float64\n",
      " 52  Anupam Investment Amount   447 non-null    float64\n",
      " 53  Anupam Investment Equity   447 non-null    float64\n",
      " 54  Anupam Debt Amount         8 non-null      float64\n",
      " 55  Aman Investment Amount     447 non-null    float64\n",
      " 56  Aman Investment Equity     447 non-null    float64\n",
      " 57  Aman Debt Amount           18 non-null     float64\n",
      " 58  Peyush Investment Amount   447 non-null    float64\n",
      " 59  Peyush Investment Equity   447 non-null    float64\n",
      " 60  Peyush Debt Amount         12 non-null     float64\n",
      " 61  Ritesh Investment Amount   447 non-null    float64\n",
      " 62  Ritesh Investment Equity   447 non-null    float64\n",
      " 63  Ritesh Debt Amount         7 non-null      float64\n",
      " 64  Amit Investment Amount     447 non-null    float64\n",
      " 65  Amit Investment Equity     447 non-null    float64\n",
      " 66  Amit Debt Amount           7 non-null      float64\n",
      " 67  Guest Investment Amount    447 non-null    float64\n",
      " 68  Guest Investment Equity    447 non-null    float64\n",
      " 69  Guest Debt Amount          5 non-null      float64\n",
      " 70  Invested Guest Name        44 non-null     object \n",
      " 71  All Guest Names            189 non-null    object \n",
      " 72  Namita Present             388 non-null    float64\n",
      " 73  Vineeta Present            317 non-null    float64\n",
      " 74  Anupam Present             424 non-null    float64\n",
      " 75  Aman Present               419 non-null    float64\n",
      " 76  Peyush Present             306 non-null    float64\n",
      " 77  Ritesh Present             60 non-null     float64\n",
      " 78  Amit Present               136 non-null    float64\n",
      " 79  Guest Present              189 non-null    float64\n",
      " 80  deal_amount_per_shark      267 non-null    float64\n",
      " 81  equity_per_shark           267 non-null    float64\n",
      " 82  Boot Strapped              447 non-null    int64  \n",
      " 83  Aman_deal                  447 non-null    int64  \n",
      " 84  Namita_deal                447 non-null    int64  \n",
      " 85  Vineeta_deal               447 non-null    int64  \n",
      " 86  Anupam_deal                447 non-null    int64  \n",
      " 87  peyush_deal                447 non-null    int64  \n",
      " 88  Amit_deal                  447 non-null    int64  \n",
      " 89  Guest1_present             189 non-null    object \n",
      " 90  Guest2_present             16 non-null     object \n",
      " 91  Ashneer Present            447 non-null    int64  \n",
      "dtypes: float64(56), int64(15), object(21)\n",
      "memory usage: 324.8+ KB\n"
     ]
    }
   ],
   "source": [
    "df.info()"
   ]
  },
  {
   "cell_type": "code",
   "execution_count": 39,
   "id": "8d2a309d-83b7-4488-879e-6879a4a06eb5",
   "metadata": {},
   "outputs": [],
   "source": [
    "keyword='Ashneer Grover'\n",
    "df['Ashneer_present']=df['All Guest Names'].apply(lambda x: 1 if pd.notna(x) and keyword in x else 0)"
   ]
  },
  {
   "cell_type": "code",
   "execution_count": 43,
   "id": "48637697-838b-4c3b-93fe-a297c9c3308d",
   "metadata": {},
   "outputs": [],
   "source": [
    "df['All Guest Names'] = df['All Guest Names'].apply(lambda x: x.replace(keyword, '').strip() if pd.notna(x) else x)"
   ]
  },
  {
   "cell_type": "code",
   "execution_count": 40,
   "id": "9754b2ce-0d3c-4522-96aa-9a4f1d26f88c",
   "metadata": {},
   "outputs": [
    {
     "name": "stdout",
     "output_type": "stream",
     "text": [
      "<class 'pandas.core.frame.DataFrame'>\n",
      "Index: 447 entries, 0 to 477\n",
      "Data columns (total 93 columns):\n",
      " #   Column                     Non-Null Count  Dtype  \n",
      "---  ------                     --------------  -----  \n",
      " 0   Season Number              447 non-null    int64  \n",
      " 1   Startup Name               447 non-null    object \n",
      " 2   Episode Number             447 non-null    int64  \n",
      " 3   Pitch Number               447 non-null    int64  \n",
      " 4   Season Start               447 non-null    object \n",
      " 5   Season End                 447 non-null    object \n",
      " 6   Original Air Date          447 non-null    object \n",
      " 7   Episode Title              447 non-null    object \n",
      " 8   Anchor                     447 non-null    object \n",
      " 9   Industry                   447 non-null    object \n",
      " 10  Business Description       447 non-null    object \n",
      " 11  Company Website            437 non-null    object \n",
      " 12  Started in                 325 non-null    float64\n",
      " 13  Number of Presenters       447 non-null    int64  \n",
      " 14  Male Presenters            383 non-null    float64\n",
      " 15  Female Presenters          209 non-null    float64\n",
      " 16  Transgender Presenters     1 non-null      float64\n",
      " 17  Couple Presenters          447 non-null    int64  \n",
      " 18  Pitchers Average Age       447 non-null    object \n",
      " 19  Pitchers City              442 non-null    object \n",
      " 20  Pitchers State             447 non-null    object \n",
      " 21  Yearly Revenue             235 non-null    float64\n",
      " 22  Monthly Sales              215 non-null    float64\n",
      " 23  Gross Margin               126 non-null    float64\n",
      " 24  Net Margin                 73 non-null     float64\n",
      " 25  EBITDA                     23 non-null     float64\n",
      " 26  Cash Burn                  61 non-null     object \n",
      " 27  SKUs                       28 non-null     float64\n",
      " 28  Has Patents                43 non-null     object \n",
      " 29  Bootstrapped               48 non-null     object \n",
      " 30  Part of Match off          4 non-null      object \n",
      " 31  Original Ask Amount        447 non-null    float64\n",
      " 32  Original Offered Equity    447 non-null    float64\n",
      " 33  Valuation Requested        447 non-null    float64\n",
      " 34  Received Offer             447 non-null    int64  \n",
      " 35  Accepted Offer             447 non-null    int64  \n",
      " 36  Total Deal Amount          267 non-null    float64\n",
      " 37  Total Deal Equity          267 non-null    float64\n",
      " 38  Total Deal Debt            62 non-null     float64\n",
      " 39  Debt Interest              45 non-null     float64\n",
      " 40  Deal Valuation             266 non-null    float64\n",
      " 41  Number of Sharks in Deal   267 non-null    float64\n",
      " 42  Deal Has Conditions        26 non-null     object \n",
      " 43  Royalty Percentage         18 non-null     float64\n",
      " 44  Royalty Recouped Amount    18 non-null     float64\n",
      " 45  Advisory Shares Equity     3 non-null      float64\n",
      " 46  Namita Investment Amount   447 non-null    float64\n",
      " 47  Namita Investment Equity   447 non-null    float64\n",
      " 48  Namita Debt Amount         17 non-null     float64\n",
      " 49  Vineeta Investment Amount  447 non-null    float64\n",
      " 50  Vineeta Investment Equity  447 non-null    float64\n",
      " 51  Vineeta Debt Amount        12 non-null     float64\n",
      " 52  Anupam Investment Amount   447 non-null    float64\n",
      " 53  Anupam Investment Equity   447 non-null    float64\n",
      " 54  Anupam Debt Amount         8 non-null      float64\n",
      " 55  Aman Investment Amount     447 non-null    float64\n",
      " 56  Aman Investment Equity     447 non-null    float64\n",
      " 57  Aman Debt Amount           18 non-null     float64\n",
      " 58  Peyush Investment Amount   447 non-null    float64\n",
      " 59  Peyush Investment Equity   447 non-null    float64\n",
      " 60  Peyush Debt Amount         12 non-null     float64\n",
      " 61  Ritesh Investment Amount   447 non-null    float64\n",
      " 62  Ritesh Investment Equity   447 non-null    float64\n",
      " 63  Ritesh Debt Amount         7 non-null      float64\n",
      " 64  Amit Investment Amount     447 non-null    float64\n",
      " 65  Amit Investment Equity     447 non-null    float64\n",
      " 66  Amit Debt Amount           7 non-null      float64\n",
      " 67  Guest Investment Amount    447 non-null    float64\n",
      " 68  Guest Investment Equity    447 non-null    float64\n",
      " 69  Guest Debt Amount          5 non-null      float64\n",
      " 70  Invested Guest Name        44 non-null     object \n",
      " 71  All Guest Names            189 non-null    object \n",
      " 72  Namita Present             388 non-null    float64\n",
      " 73  Vineeta Present            317 non-null    float64\n",
      " 74  Anupam Present             424 non-null    float64\n",
      " 75  Aman Present               419 non-null    float64\n",
      " 76  Peyush Present             306 non-null    float64\n",
      " 77  Ritesh Present             60 non-null     float64\n",
      " 78  Amit Present               136 non-null    float64\n",
      " 79  Guest Present              189 non-null    float64\n",
      " 80  deal_amount_per_shark      267 non-null    float64\n",
      " 81  equity_per_shark           267 non-null    float64\n",
      " 82  Boot Strapped              447 non-null    int64  \n",
      " 83  Aman_deal                  447 non-null    int64  \n",
      " 84  Namita_deal                447 non-null    int64  \n",
      " 85  Vineeta_deal               447 non-null    int64  \n",
      " 86  Anupam_deal                447 non-null    int64  \n",
      " 87  peyush_deal                447 non-null    int64  \n",
      " 88  Amit_deal                  447 non-null    int64  \n",
      " 89  Guest1_present             189 non-null    object \n",
      " 90  Guest2_present             16 non-null     object \n",
      " 91  Ashneer Present            447 non-null    int64  \n",
      " 92  Ashneer_present            447 non-null    int64  \n",
      "dtypes: float64(56), int64(16), object(21)\n",
      "memory usage: 328.3+ KB\n"
     ]
    }
   ],
   "source": [
    "df.info()"
   ]
  },
  {
   "cell_type": "code",
   "execution_count": 42,
   "id": "059588d9-0982-491f-8479-071646046c37",
   "metadata": {},
   "outputs": [],
   "source": [
    "df.to_csv(\"example3.csv\")"
   ]
  }
 ],
 "metadata": {
  "kernelspec": {
   "display_name": "Python 3 (ipykernel)",
   "language": "python",
   "name": "python3"
  },
  "language_info": {
   "codemirror_mode": {
    "name": "ipython",
    "version": 3
   },
   "file_extension": ".py",
   "mimetype": "text/x-python",
   "name": "python",
   "nbconvert_exporter": "python",
   "pygments_lexer": "ipython3",
   "version": "3.12.4"
  }
 },
 "nbformat": 4,
 "nbformat_minor": 5
}
