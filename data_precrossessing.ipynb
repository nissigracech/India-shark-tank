{
 "cells": [
  {
   "cell_type": "code",
   "execution_count": 1,
   "id": "7174257d-10e9-4df1-9a5e-f3ecfa2a7e27",
   "metadata": {},
   "outputs": [],
   "source": [
    "import pandas as pd"
   ]
  },
  {
   "cell_type": "code",
   "execution_count": 4,
   "id": "6f3c6ad5-448a-4ce2-94fc-cae7ebc56006",
   "metadata": {},
   "outputs": [],
   "source": [
    "df=pd.read_csv(\"Shark Tank India.csv\")"
   ]
  },
  {
   "cell_type": "code",
   "execution_count": 5,
   "id": "049b3c68-3496-423f-8ea8-61dfc0f7e30c",
   "metadata": {},
   "outputs": [
    {
     "name": "stdout",
     "output_type": "stream",
     "text": [
      "<class 'pandas.core.frame.DataFrame'>\n",
      "RangeIndex: 552 entries, 0 to 551\n",
      "Data columns (total 80 columns):\n",
      " #   Column                     Non-Null Count  Dtype  \n",
      "---  ------                     --------------  -----  \n",
      " 0   Season Number              552 non-null    int64  \n",
      " 1   Startup Name               552 non-null    object \n",
      " 2   Episode Number             552 non-null    int64  \n",
      " 3   Pitch Number               552 non-null    int64  \n",
      " 4   Season Start               552 non-null    object \n",
      " 5   Season End                 478 non-null    object \n",
      " 6   Original Air Date          521 non-null    object \n",
      " 7   Episode Title              552 non-null    object \n",
      " 8   Anchor                     552 non-null    object \n",
      " 9   Industry                   552 non-null    object \n",
      " 10  Business Description       552 non-null    object \n",
      " 11  Company Website            537 non-null    object \n",
      " 12  Started in                 402 non-null    float64\n",
      " 13  Number of Presenters       552 non-null    int64  \n",
      " 14  Male Presenters            486 non-null    float64\n",
      " 15  Female Presenters          300 non-null    float64\n",
      " 16  Transgender Presenters     3 non-null      float64\n",
      " 17  Couple Presenters          552 non-null    int64  \n",
      " 18  Pitchers Average Age       552 non-null    object \n",
      " 19  Pitchers City              546 non-null    object \n",
      " 20  Pitchers State             548 non-null    object \n",
      " 21  Yearly Revenue             291 non-null    float64\n",
      " 22  Monthly Sales              261 non-null    float64\n",
      " 23  Gross Margin               144 non-null    float64\n",
      " 24  Net Margin                 86 non-null     float64\n",
      " 25  EBITDA                     45 non-null     float64\n",
      " 26  Cash Burn                  85 non-null     object \n",
      " 27  SKUs                       39 non-null     float64\n",
      " 28  Has Patents                54 non-null     object \n",
      " 29  Bootstrapped               83 non-null     object \n",
      " 30  Part of Match off          6 non-null      object \n",
      " 31  Original Ask Amount        552 non-null    float64\n",
      " 32  Original Offered Equity    552 non-null    float64\n",
      " 33  Valuation Requested        552 non-null    float64\n",
      " 34  Received Offer             552 non-null    int64  \n",
      " 35  Accepted Offer             377 non-null    float64\n",
      " 36  Total Deal Amount          317 non-null    float64\n",
      " 37  Total Deal Equity          317 non-null    float64\n",
      " 38  Total Deal Debt            66 non-null     float64\n",
      " 39  Debt Interest              49 non-null     float64\n",
      " 40  Deal Valuation             316 non-null    float64\n",
      " 41  Number of Sharks in Deal   317 non-null    float64\n",
      " 42  Deal Has Conditions        33 non-null     object \n",
      " 43  Royalty Percentage         26 non-null     float64\n",
      " 44  Royalty Recouped Amount    26 non-null     float64\n",
      " 45  Advisory Shares Equity     7 non-null      float64\n",
      " 46  Namita Investment Amount   101 non-null    float64\n",
      " 47  Namita Investment Equity   101 non-null    float64\n",
      " 48  Namita Debt Amount         18 non-null     float64\n",
      " 49  Vineeta Investment Amount  77 non-null     float64\n",
      " 50  Vineeta Investment Equity  77 non-null     float64\n",
      " 51  Vineeta Debt Amount        13 non-null     float64\n",
      " 52  Anupam Investment Amount   86 non-null     float64\n",
      " 53  Anupam Investment Equity   86 non-null     float64\n",
      " 54  Anupam Debt Amount         8 non-null      float64\n",
      " 55  Aman Investment Amount     127 non-null    float64\n",
      " 56  Aman Investment Equity     127 non-null    float64\n",
      " 57  Aman Debt Amount           18 non-null     float64\n",
      " 58  Peyush Investment Amount   98 non-null     float64\n",
      " 59  Peyush Investment Equity   98 non-null     float64\n",
      " 60  Peyush Debt Amount         12 non-null     float64\n",
      " 61  Ritesh Investment Amount   39 non-null     float64\n",
      " 62  Ritesh Investment Equity   39 non-null     float64\n",
      " 63  Ritesh Debt Amount         10 non-null     float64\n",
      " 64  Amit Investment Amount     35 non-null     float64\n",
      " 65  Amit Investment Equity     35 non-null     float64\n",
      " 66  Amit Debt Amount           7 non-null      float64\n",
      " 67  Guest Investment Amount    58 non-null     float64\n",
      " 68  Guest Investment Equity    58 non-null     float64\n",
      " 69  Guest Debt Amount          5 non-null      float64\n",
      " 70  Invested Guest Name        58 non-null     object \n",
      " 71  All Guest Names            247 non-null    object \n",
      " 72  Namita Present             436 non-null    float64\n",
      " 73  Vineeta Present            368 non-null    float64\n",
      " 74  Anupam Present             486 non-null    float64\n",
      " 75  Aman Present               486 non-null    float64\n",
      " 76  Peyush Present             351 non-null    float64\n",
      " 77  Ritesh Present             93 non-null     float64\n",
      " 78  Amit Present               137 non-null    float64\n",
      " 79  Guest Present              247 non-null    float64\n",
      "dtypes: float64(55), int64(6), object(19)\n",
      "memory usage: 345.1+ KB\n"
     ]
    }
   ],
   "source": [
    "df.info()"
   ]
  }
 ],
 "metadata": {
  "kernelspec": {
   "display_name": "Python 3 (ipykernel)",
   "language": "python",
   "name": "python3"
  },
  "language_info": {
   "codemirror_mode": {
    "name": "ipython",
    "version": 3
   },
   "file_extension": ".py",
   "mimetype": "text/x-python",
   "name": "python",
   "nbconvert_exporter": "python",
   "pygments_lexer": "ipython3",
   "version": "3.12.4"
  }
 },
 "nbformat": 4,
 "nbformat_minor": 5
}
